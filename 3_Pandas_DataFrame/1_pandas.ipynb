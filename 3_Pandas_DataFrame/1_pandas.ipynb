{
 "cells": [
  {
   "cell_type": "markdown",
   "metadata": {},
   "source": [
    "# Pandas"
   ]
  },
  {
   "cell_type": "raw",
   "metadata": {},
   "source": [
    "Pandas is a Python library used for working with data sets.\n",
    "It has functions for analyzing, cleaning, exploring, and manipulating data.\n",
    "\n",
    "The name \"Pandas\" has a reference to both \"Panel Data\", and \"Python Data Analysis\" and was created by Wes McKinney in 2008."
   ]
  },
  {
   "cell_type": "raw",
   "metadata": {},
   "source": [
    "Use for \n",
    "+ Preparetion\n",
    "+ manipulation (rename columns ....\n",
    "+ munging (data cleansing : organized in the right format)\n",
    "+ Wrangling\n",
    "\n",
    "\n",
    "Objective of pandas\n",
    "+ understand about pandas\n",
    "+ work with data structure\n",
    "+ create dataFrame\n",
    "+ Load data from file\n",
    "+ Explore, select and filter\n",
    "+ handle doubplicate data and missing values\n",
    "+ group agregate, sort and rank the data\n",
    "\n",
    "----------------------------\n",
    "agregate = calculate\n",
    "\n",
    "======================\n",
    "What is time series of data? Cont\n",
    "=> weather casting, stoc,"
   ]
  },
  {
   "cell_type": "code",
   "execution_count": 5,
   "metadata": {},
   "outputs": [
    {
     "data": {
      "text/plain": [
       "0      0\n",
       "1      1\n",
       "2      2\n",
       "3      3\n",
       "4      4\n",
       "5      5\n",
       "6      6\n",
       "7      7\n",
       "8      8\n",
       "9      9\n",
       "10    10\n",
       "11    11\n",
       "12    12\n",
       "13    13\n",
       "14    14\n",
       "dtype: int64"
      ]
     },
     "execution_count": 5,
     "metadata": {},
     "output_type": "execute_result"
    }
   ],
   "source": [
    "import pandas as pd\n",
    "\n",
    "# Create series \n",
    "s1 = pd.Series(range(15))\n",
    "s1"
   ]
  },
  {
   "cell_type": "code",
   "execution_count": 8,
   "metadata": {},
   "outputs": [
    {
     "data": {
      "text/plain": [
       "0     1\n",
       "1     2\n",
       "2     3\n",
       "3     4\n",
       "4     5\n",
       "5     6\n",
       "6     7\n",
       "7     8\n",
       "8     9\n",
       "9    10\n",
       "dtype: int64"
      ]
     },
     "execution_count": 8,
     "metadata": {},
     "output_type": "execute_result"
    }
   ],
   "source": [
    "# Create series by list\n",
    "list = [1,2,3,4,5,6,7,8,9,10]\n",
    "s2 = pd.Series(list)\n",
    "s2"
   ]
  },
  {
   "cell_type": "code",
   "execution_count": 11,
   "metadata": {},
   "outputs": [
    {
     "data": {
      "text/plain": [
       "0    4\n",
       "1    5\n",
       "2    5\n",
       "3    6\n",
       "4    7\n",
       "5    8\n",
       "dtype: int32"
      ]
     },
     "execution_count": 11,
     "metadata": {},
     "output_type": "execute_result"
    }
   ],
   "source": [
    "# Create series by NP Array\n",
    "import numpy as np\n",
    "arr = np.array([4,5,5,6,7,8])\n",
    "s3 = pd.Series(arr)\n",
    "s3"
   ]
  },
  {
   "cell_type": "code",
   "execution_count": 28,
   "metadata": {},
   "outputs": [
    {
     "data": {
      "text/plain": [
       "2    20\n",
       "3    30\n",
       "4    40\n",
       "dtype: int64"
      ]
     },
     "execution_count": 28,
     "metadata": {},
     "output_type": "execute_result"
    }
   ],
   "source": [
    "# With specifies index\n",
    "list = [10,20,30,40,50,60]\n",
    "s4 = pd.Series(list, index = range(1,7))\n",
    "s4[1:4]"
   ]
  },
  {
   "cell_type": "code",
   "execution_count": 47,
   "metadata": {},
   "outputs": [
    {
     "name": "stdout",
     "output_type": "stream",
     "text": [
      "[10 20 30 40 50 60]\n",
      "Index(['A', 'B', 'C', 'D', 'E', 'F'], dtype='object')\n",
      "(6,)\n",
      "10\n",
      "10\n",
      "A    10\n",
      "C    30\n",
      "dtype: int64\n",
      "A    10\n",
      "C    30\n",
      "dtype: int64\n",
      "A    10\n",
      "B    20\n",
      "C    30\n",
      "D    40\n",
      "E    50\n",
      "dtype: int64\n",
      "A    10\n",
      "B    20\n",
      "C    30\n",
      "D    40\n",
      "E    50\n",
      "dtype: int64\n"
     ]
    }
   ],
   "source": [
    "# With specifies index\n",
    "dic = {'A':10,'B':20,'C':30,'D':40,'E':50,'F':60}\n",
    "s4 = pd.Series(dic)\n",
    "# type(dic)\n",
    "# s4[1:5]\n",
    "print(s4.values)\n",
    "print(s4.index)\n",
    "print(s4.shape)\n",
    "# value\n",
    "print(s4.loc['A']) \n",
    "print(s4.iloc[0]) \n",
    "\n",
    "# list\n",
    "print(s4.loc[['A', 'C']])\n",
    "print(s4.iloc[[0,2]])\n",
    "\n",
    "# Slicing\n",
    "print(s4.loc['A': 'E'])\n",
    "print(s4.iloc[0:5])"
   ]
  },
  {
   "cell_type": "raw",
   "metadata": {},
   "source": [
    "+ loc[] : Label based so we have to specified row & column \n",
    "    based on index row|column label\n",
    "+ iloc[]: Interger position based, so we specified row & column by the integer \n",
    "    position value."
   ]
  },
  {
   "cell_type": "markdown",
   "metadata": {},
   "source": [
    "# Data Frame\n"
   ]
  },
  {
   "cell_type": "code",
   "execution_count": 61,
   "metadata": {},
   "outputs": [
    {
     "data": {
      "text/html": [
       "<div>\n",
       "<style scoped>\n",
       "    .dataframe tbody tr th:only-of-type {\n",
       "        vertical-align: middle;\n",
       "    }\n",
       "\n",
       "    .dataframe tbody tr th {\n",
       "        vertical-align: top;\n",
       "    }\n",
       "\n",
       "    .dataframe thead th {\n",
       "        text-align: right;\n",
       "    }\n",
       "</style>\n",
       "<table border=\"1\" class=\"dataframe\">\n",
       "  <thead>\n",
       "    <tr style=\"text-align: right;\">\n",
       "      <th></th>\n",
       "      <th>c1</th>\n",
       "      <th>c2</th>\n",
       "      <th>c3</th>\n",
       "      <th>c4</th>\n",
       "      <th>c5</th>\n",
       "    </tr>\n",
       "  </thead>\n",
       "  <tbody>\n",
       "    <tr>\n",
       "      <th>a</th>\n",
       "      <td>1</td>\n",
       "      <td>2</td>\n",
       "      <td>3</td>\n",
       "      <td>4</td>\n",
       "      <td>5</td>\n",
       "    </tr>\n",
       "    <tr>\n",
       "      <th>b</th>\n",
       "      <td>6</td>\n",
       "      <td>7</td>\n",
       "      <td>8</td>\n",
       "      <td>9</td>\n",
       "      <td>10</td>\n",
       "    </tr>\n",
       "    <tr>\n",
       "      <th>c</th>\n",
       "      <td>11</td>\n",
       "      <td>12</td>\n",
       "      <td>13</td>\n",
       "      <td>14</td>\n",
       "      <td>15</td>\n",
       "    </tr>\n",
       "    <tr>\n",
       "      <th>d</th>\n",
       "      <td>16</td>\n",
       "      <td>17</td>\n",
       "      <td>18</td>\n",
       "      <td>19</td>\n",
       "      <td>20</td>\n",
       "    </tr>\n",
       "    <tr>\n",
       "      <th>e</th>\n",
       "      <td>21</td>\n",
       "      <td>22</td>\n",
       "      <td>23</td>\n",
       "      <td>24</td>\n",
       "      <td>25</td>\n",
       "    </tr>\n",
       "  </tbody>\n",
       "</table>\n",
       "</div>"
      ],
      "text/plain": [
       "   c1  c2  c3  c4  c5\n",
       "a   1   2   3   4   5\n",
       "b   6   7   8   9  10\n",
       "c  11  12  13  14  15\n",
       "d  16  17  18  19  20\n",
       "e  21  22  23  24  25"
      ]
     },
     "execution_count": 61,
     "metadata": {},
     "output_type": "execute_result"
    }
   ],
   "source": [
    "df = pd.DataFrame(np.arange(1,26).reshape(5,5),\n",
    "    columns= ['c1','c2','c3','c4','c5'],\n",
    "    index = ['a','b','c','d','e'])\n",
    "    # index = list('abcde') not work\n",
    "df\n"
   ]
  },
  {
   "cell_type": "code",
   "execution_count": 74,
   "metadata": {},
   "outputs": [
    {
     "name": "stdout",
     "output_type": "stream",
     "text": [
      "c1     6\n",
      "c2     7\n",
      "c3     8\n",
      "c4     9\n",
      "c5    10\n",
      "Name: b, dtype: int32\n",
      "----------------------\n",
      "\n",
      "   c1  c2  c3  c4  c5\n",
      "a   1   2   3   4   5\n",
      "c  11  12  13  14  15\n",
      "----------------------\n",
      "\n",
      "c1     6\n",
      "c2     7\n",
      "c3     8\n",
      "c4     9\n",
      "c5    10\n",
      "Name: b, dtype: int32\n",
      "----------------------\n",
      "\n",
      "   c1  c2  c3  c4  c5\n",
      "a   1   2   3   4   5\n",
      "c  11  12  13  14  15\n",
      "----------------------\n",
      "\n",
      "   c1  c2\n",
      "a   1   2\n"
     ]
    }
   ],
   "source": [
    "print(df.loc['b'])\n",
    "print('----------------------\\n')\n",
    "print(df.loc[['a','c']])\n",
    "print('----------------------\\n')\n",
    "print(df.iloc[1])\n",
    "print('----------------------\\n')\n",
    "print(df.iloc[[0,2]])\n",
    "print('----------------------\\n')\n",
    "print(df.iloc[0:1,0:2])"
   ]
  },
  {
   "cell_type": "code",
   "execution_count": 3,
   "metadata": {},
   "outputs": [
    {
     "data": {
      "text/html": [
       "<div>\n",
       "<style scoped>\n",
       "    .dataframe tbody tr th:only-of-type {\n",
       "        vertical-align: middle;\n",
       "    }\n",
       "\n",
       "    .dataframe tbody tr th {\n",
       "        vertical-align: top;\n",
       "    }\n",
       "\n",
       "    .dataframe thead th {\n",
       "        text-align: right;\n",
       "    }\n",
       "</style>\n",
       "<table border=\"1\" class=\"dataframe\">\n",
       "  <thead>\n",
       "    <tr style=\"text-align: right;\">\n",
       "      <th></th>\n",
       "      <th>GDP</th>\n",
       "      <th>Population_M</th>\n",
       "      <th>Country</th>\n",
       "    </tr>\n",
       "  </thead>\n",
       "  <tbody>\n",
       "    <tr>\n",
       "      <th>0</th>\n",
       "      <td>21.0</td>\n",
       "      <td>300</td>\n",
       "      <td>USA</td>\n",
       "    </tr>\n",
       "    <tr>\n",
       "      <th>1</th>\n",
       "      <td>16.0</td>\n",
       "      <td>1420</td>\n",
       "      <td>China</td>\n",
       "    </tr>\n",
       "    <tr>\n",
       "      <th>2</th>\n",
       "      <td>5.7</td>\n",
       "      <td>140</td>\n",
       "      <td>Japan</td>\n",
       "    </tr>\n",
       "    <tr>\n",
       "      <th>3</th>\n",
       "      <td>4.3</td>\n",
       "      <td>80</td>\n",
       "      <td>Germany</td>\n",
       "    </tr>\n",
       "    <tr>\n",
       "      <th>4</th>\n",
       "      <td>3.1</td>\n",
       "      <td>1400</td>\n",
       "      <td>India</td>\n",
       "    </tr>\n",
       "  </tbody>\n",
       "</table>\n",
       "</div>"
      ],
      "text/plain": [
       "    GDP  Population_M  Country\n",
       "0  21.0           300      USA\n",
       "1  16.0          1420    China\n",
       "2   5.7           140    Japan\n",
       "3   4.3            80  Germany\n",
       "4   3.1          1400    India"
      ]
     },
     "execution_count": 3,
     "metadata": {},
     "output_type": "execute_result"
    }
   ],
   "source": [
    "import pandas as pd\n",
    "GDP = [21,16,5.7,4.3,3.1]\n",
    "pop = [300,1420,140,80,1400]\n",
    "data = {'GDP' : [21,16,5.7,4.3,3.1] , 'Population': [300,1420,140,80,1400]}\n",
    "df=pd.DataFrame({'GDP' : [21,16,5.7,4.3,3.1] , 'Population_M': [300,1420,140,80,1400],\n",
    "                  'Country':['USA','China','Japan','Germany','India']})\n",
    "df"
   ]
  },
  {
   "cell_type": "markdown",
   "metadata": {},
   "source": [
    "# iloc, loc"
   ]
  },
  {
   "cell_type": "code",
   "execution_count": 4,
   "metadata": {},
   "outputs": [
    {
     "data": {
      "text/html": [
       "<div>\n",
       "<style scoped>\n",
       "    .dataframe tbody tr th:only-of-type {\n",
       "        vertical-align: middle;\n",
       "    }\n",
       "\n",
       "    .dataframe tbody tr th {\n",
       "        vertical-align: top;\n",
       "    }\n",
       "\n",
       "    .dataframe thead th {\n",
       "        text-align: right;\n",
       "    }\n",
       "</style>\n",
       "<table border=\"1\" class=\"dataframe\">\n",
       "  <thead>\n",
       "    <tr style=\"text-align: right;\">\n",
       "      <th></th>\n",
       "      <th>Brand</th>\n",
       "      <th>Year</th>\n",
       "      <th>Kms Driven</th>\n",
       "      <th>City</th>\n",
       "      <th>Mleage</th>\n",
       "    </tr>\n",
       "  </thead>\n",
       "  <tbody>\n",
       "    <tr>\n",
       "      <th>0</th>\n",
       "      <td>Maruti</td>\n",
       "      <td>2012</td>\n",
       "      <td>50000</td>\n",
       "      <td>Guragaon</td>\n",
       "      <td>28</td>\n",
       "    </tr>\n",
       "    <tr>\n",
       "      <th>1</th>\n",
       "      <td>Hyundai</td>\n",
       "      <td>2014</td>\n",
       "      <td>30000</td>\n",
       "      <td>Delhi</td>\n",
       "      <td>27</td>\n",
       "    </tr>\n",
       "    <tr>\n",
       "      <th>2</th>\n",
       "      <td>Tata</td>\n",
       "      <td>2011</td>\n",
       "      <td>60000</td>\n",
       "      <td>Mumbai</td>\n",
       "      <td>25</td>\n",
       "    </tr>\n",
       "    <tr>\n",
       "      <th>3</th>\n",
       "      <td>Mahindra</td>\n",
       "      <td>2015</td>\n",
       "      <td>25000</td>\n",
       "      <td>Delhi</td>\n",
       "      <td>26</td>\n",
       "    </tr>\n",
       "    <tr>\n",
       "      <th>4</th>\n",
       "      <td>Maruti</td>\n",
       "      <td>2012</td>\n",
       "      <td>10000</td>\n",
       "      <td>Mumbai</td>\n",
       "      <td>28</td>\n",
       "    </tr>\n",
       "    <tr>\n",
       "      <th>5</th>\n",
       "      <td>Hyundai</td>\n",
       "      <td>2016</td>\n",
       "      <td>46000</td>\n",
       "      <td>Delhi</td>\n",
       "      <td>29</td>\n",
       "    </tr>\n",
       "    <tr>\n",
       "      <th>6</th>\n",
       "      <td>Renault</td>\n",
       "      <td>2014</td>\n",
       "      <td>31000</td>\n",
       "      <td>Mumbai</td>\n",
       "      <td>24</td>\n",
       "    </tr>\n",
       "    <tr>\n",
       "      <th>7</th>\n",
       "      <td>Tata</td>\n",
       "      <td>2018</td>\n",
       "      <td>15000</td>\n",
       "      <td>Chennai</td>\n",
       "      <td>21</td>\n",
       "    </tr>\n",
       "    <tr>\n",
       "      <th>8</th>\n",
       "      <td>Maruti</td>\n",
       "      <td>2019</td>\n",
       "      <td>12000</td>\n",
       "      <td>Ghaziabad</td>\n",
       "      <td>24</td>\n",
       "    </tr>\n",
       "  </tbody>\n",
       "</table>\n",
       "</div>"
      ],
      "text/plain": [
       "      Brand  Year  Kms Driven       City  Mleage\n",
       "0    Maruti  2012       50000   Guragaon      28\n",
       "1   Hyundai  2014       30000      Delhi      27\n",
       "2      Tata  2011       60000     Mumbai      25\n",
       "3  Mahindra  2015       25000      Delhi      26\n",
       "4    Maruti  2012       10000     Mumbai      28\n",
       "5   Hyundai  2016       46000      Delhi      29\n",
       "6   Renault  2014       31000     Mumbai      24\n",
       "7      Tata  2018       15000    Chennai      21\n",
       "8    Maruti  2019       12000  Ghaziabad      24"
      ]
     },
     "metadata": {},
     "output_type": "display_data"
    }
   ],
   "source": [
    "import pandas as pd\n",
    "data = pd.DataFrame({\n",
    "    'Brand' : ['Maruti', 'Hyundai', 'Tata',\n",
    "               'Mahindra', 'Maruti', 'Hyundai',\n",
    "               'Renault', 'Tata', 'Maruti'],\n",
    "    'Year' : [2012, 2014, 2011, \n",
    "              2015, 2012, 2016, 2014, \n",
    "              2018, 2019],\n",
    "    'Kms Driven' : [50000, 30000, 60000, \n",
    "                    25000, 10000, 46000,\n",
    "                    31000,15000,12000],\n",
    "    'City' : ['Guragaon','Delhi','Mumbai',\n",
    "              'Delhi','Mumbai','Delhi',\n",
    "              'Mumbai','Chennai','Ghaziabad'],\n",
    "    'Mleage' : [28, 27 , 25 , \n",
    "                26, 28, 29 ,\n",
    "                24 ,21 ,24]\n",
    "})\n",
    "display(data)"
   ]
  },
  {
   "cell_type": "code",
   "execution_count": 27,
   "metadata": {},
   "outputs": [
    {
     "name": "stdout",
     "output_type": "stream",
     "text": [
      "     Brand  Year  Kms Driven\n",
      "0   Maruti  2012       50000\n",
      "1  Hyundai  2014       30000\n",
      "2     Tata  2011       60000\n",
      "-----------------------------\n",
      "      Brand  Year  Kms Driven\n",
      "0    Maruti  2012       50000\n",
      "1   Hyundai  2014       30000\n",
      "2      Tata  2011       60000\n",
      "3  Mahindra  2015       25000\n",
      "4    Maruti  2012       10000\n",
      "5   Hyundai  2016       46000\n",
      "6   Renault  2014       31000\n",
      "7      Tata  2018       15000\n",
      "8    Maruti  2019       12000\n",
      "-----------------------------\n",
      "   Year  Kms Driven\n",
      "0  2012       50000\n",
      "1  2014       30000\n",
      "2  2011       60000\n",
      "3  2015       25000\n",
      "4  2012       10000\n",
      "5  2016       46000\n",
      "6  2014       31000\n",
      "7  2018       15000\n",
      "8  2019       12000\n",
      "-----------------------------\n",
      "        City  Mleage\n",
      "7    Chennai      21\n",
      "8  Ghaziabad      24\n"
     ]
    }
   ],
   "source": [
    "# data.loc[0:1]\n",
    "print(data.loc[0:2,'Brand':'Kms Driven'])\n",
    "print('-----------------------------')\n",
    "print(data.loc[:,'Brand':'Kms Driven'])\n",
    "print('-----------------------------')\n",
    "print(data.iloc[:,1:3])\n",
    "print('-----------------------------')\n",
    "print(data.iloc[7:9,3:5])"
   ]
  }
 ],
 "metadata": {
  "kernelspec": {
   "display_name": "Python 3",
   "language": "python",
   "name": "python3"
  },
  "language_info": {
   "codemirror_mode": {
    "name": "ipython",
    "version": 3
   },
   "file_extension": ".py",
   "mimetype": "text/x-python",
   "name": "python",
   "nbconvert_exporter": "python",
   "pygments_lexer": "ipython3",
   "version": "3.12.2"
  }
 },
 "nbformat": 4,
 "nbformat_minor": 2
}
