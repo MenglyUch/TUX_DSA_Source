{
 "cells": [
  {
   "cell_type": "markdown",
   "metadata": {},
   "source": [
    "# Mon 18/3/2024"
   ]
  },
  {
   "cell_type": "code",
   "execution_count": 6,
   "metadata": {},
   "outputs": [
    {
     "name": "stdout",
     "output_type": "stream",
     "text": [
      "Enjoy your bucks!!!\n"
     ]
    }
   ],
   "source": [
    "# withdraw function\n",
    "balance = 20\n",
    "def withdraw (amount):\n",
    "    if(amount > balance ):\n",
    "        print(\"You are Broke!!!!\")\n",
    "    elif(amount <= balance):\n",
    "        print(\"Enjoy your bucks!!!\")\n",
    "\n",
    "a = int(input(\"Input amount: \"))\n",
    "withdraw(a)"
   ]
  },
  {
   "cell_type": "code",
   "execution_count": 9,
   "metadata": {},
   "outputs": [
    {
     "name": "stdout",
     "output_type": "stream",
     "text": [
      "can withdraw money 950\n"
     ]
    }
   ],
   "source": [
    "balance = 1000\n",
    "def withdraw(amount, balance): \n",
    "    if(balance > amount):\n",
    "        balance -= amount\n",
    "        print(\"can withdraw money\", balance)\n",
    "    else:\n",
    "        print(\"insuffinction withdraw\")\n",
    "withdraw(50, balance)"
   ]
  },
  {
   "cell_type": "code",
   "execution_count": 12,
   "metadata": {},
   "outputs": [
    {
     "name": "stdout",
     "output_type": "stream",
     "text": [
      "This\n",
      "is data science\n"
     ]
    }
   ],
   "source": [
    "str = '''This\n",
    "is data science'''\n",
    "print(str)"
   ]
  },
  {
   "cell_type": "code",
   "execution_count": 17,
   "metadata": {},
   "outputs": [
    {
     "name": "stdout",
     "output_type": "stream",
     "text": [
      "JohnJohnJohn\n",
      "John Doe\n",
      "John Doe\n",
      "John Doe\n"
     ]
    }
   ],
   "source": [
    "firstname = \"John\"\n",
    "second_name = \"Doe\"\n",
    "str_repeat = firstname*3\n",
    "print(str_repeat)\n",
    "str_con = firstname+ \" \" +second_name\n",
    "print(str_con)\n",
    "str_con = \"{} {}\".format(firstname, second_name)\n",
    "print(str_con)\n",
    "print(f\"{firstname} {second_name}\")\n"
   ]
  },
  {
   "cell_type": "code",
   "execution_count": 18,
   "metadata": {},
   "outputs": [
    {
     "data": {
      "text/plain": [
       "4"
      ]
     },
     "execution_count": 18,
     "metadata": {},
     "output_type": "execute_result"
    }
   ],
   "source": [
    "len(firstname)"
   ]
  },
  {
   "cell_type": "code",
   "execution_count": 21,
   "metadata": {},
   "outputs": [
    {
     "data": {
      "text/plain": [
       "'JOHN'"
      ]
     },
     "execution_count": 21,
     "metadata": {},
     "output_type": "execute_result"
    }
   ],
   "source": [
    "firstname.upper()"
   ]
  },
  {
   "cell_type": "code",
   "execution_count": 23,
   "metadata": {},
   "outputs": [
    {
     "data": {
      "text/plain": [
       "'h'"
      ]
     },
     "execution_count": 23,
     "metadata": {},
     "output_type": "execute_result"
    }
   ],
   "source": [
    "firstname[-2]"
   ]
  },
  {
   "cell_type": "code",
   "execution_count": 25,
   "metadata": {},
   "outputs": [
    {
     "data": {
      "text/plain": [
       "['This', 'is', 'data', 'science']"
      ]
     },
     "execution_count": 25,
     "metadata": {},
     "output_type": "execute_result"
    }
   ],
   "source": [
    "str.split()\n"
   ]
  },
  {
   "cell_type": "code",
   "execution_count": 28,
   "metadata": {},
   "outputs": [
    {
     "data": {
      "text/plain": [
       "'hello R bye bye'"
      ]
     },
     "execution_count": 28,
     "metadata": {},
     "output_type": "execute_result"
    }
   ],
   "source": [
    "str = \"hello hi bye bye\"\n",
    "str.replace('hi', 'R')"
   ]
  },
  {
   "cell_type": "code",
   "execution_count": 31,
   "metadata": {},
   "outputs": [
    {
     "name": "stdout",
     "output_type": "stream",
     "text": [
      "Palindrome\n"
     ]
    }
   ],
   "source": [
    "str = input(\"Enter: \")\n",
    "str2 = ''.join(reversed(str))\n",
    "if(str2 == str):\n",
    "    print(\"Palindrome\")\n",
    "else:\n",
    "    print(\"Not\")"
   ]
  },
  {
   "cell_type": "markdown",
   "metadata": {},
   "source": [
    "## Class and Object"
   ]
  },
  {
   "cell_type": "raw",
   "metadata": {},
   "source": [
    "\n",
    "# Class is the blueprint that can create object and behavior \n",
    "# Object is the thing of the real world\n",
    "# python is not pure OOP like JAVA"
   ]
  },
  {
   "cell_type": "code",
   "execution_count": 34,
   "metadata": {},
   "outputs": [
    {
     "name": "stdout",
     "output_type": "stream",
     "text": [
      "Hello mengly\n",
      "Allow to vote\n"
     ]
    }
   ],
   "source": [
    "class Person:\n",
    "    def __init__(self, n, g, a):\n",
    "        self.name = n \n",
    "        self.gender = g \n",
    "        self.age = a\n",
    "    \n",
    "    def talk(self):\n",
    "        print(\"Hello\", self.name)\n",
    "    \n",
    "    def vote(self):\n",
    "        if self.age < 18 :\n",
    "            print(\"Not allow to vote\")\n",
    "        else:\n",
    "            print('Allow to vote')\n",
    "obj1 = Person(\"mengly\", 'male', 18)\n",
    "obj2 = Person(\"rith\", 'male', 20)\n",
    "obj3 = Person(\"Neang\", 'female', 15)\n",
    "\n",
    "obj1.talk()\n",
    "obj2.vote()\n"
   ]
  }
 ],
 "metadata": {
  "kernelspec": {
   "display_name": "Python 3",
   "language": "python",
   "name": "python3"
  },
  "language_info": {
   "codemirror_mode": {
    "name": "ipython",
    "version": 3
   },
   "file_extension": ".py",
   "mimetype": "text/x-python",
   "name": "python",
   "nbconvert_exporter": "python",
   "pygments_lexer": "ipython3",
   "version": "3.12.2"
  }
 },
 "nbformat": 4,
 "nbformat_minor": 2
}
