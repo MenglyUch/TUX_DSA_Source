{
 "cells": [
  {
   "cell_type": "markdown",
   "metadata": {},
   "source": [
    "+ Conditional Statement : if, elif , else , nested if\n"
   ]
  },
  {
   "cell_type": "markdown",
   "metadata": {},
   "source": [
    "+ Control flow statement : While, For loop\n",
    "\n"
   ]
  },
  {
   "cell_type": "markdown",
   "metadata": {},
   "source": [
    "+ Loop Control: Break, continue"
   ]
  },
  {
   "cell_type": "markdown",
   "metadata": {},
   "source": [
    "+ Data structure: Collection of list, tuple, set, dictionary"
   ]
  },
  {
   "cell_type": "code",
   "execution_count": null,
   "metadata": {},
   "outputs": [],
   "source": [
    "# Control statement : \n",
    "# if\n",
    "age =  18 \n",
    "if age > 18 :\n",
    "    print(\"You are allow vote the election\")\n",
    "\n",
    "# if else\n",
    "age =  18 \n",
    "if age > 18 :\n",
    "    print(\"You are allow vote the election\")\n",
    "else : \n",
    "    print(\"You are not allow vote the election\")\n"
   ]
  },
  {
   "cell_type": "code",
   "execution_count": 2,
   "metadata": {},
   "outputs": [],
   "source": [
    "# user muust enter 5 differet subjects m1, to m5\n",
    "# sum up  with subjects, Ang of subject\n",
    "# if Avg mark is grater than 90 Grade A\n",
    "# if Avg mark is grater than 80 Grade B\n",
    "# if Avg mark is grater than 70 Grade C\n",
    "# if Avg mark is grater than 60 Grade D\n",
    "# if Avg mark is grater than 50 Grade E\n",
    "# if Avg mark is lower than 50 Grade F\n",
    "\n",
    "m1 = int(input(\"Enter value of m1 : \"))\n",
    "m2 = int(input(\"Enter value of m2 : \"))\n",
    "m3 = int(input(\"Enter value of m3 : \"))\n",
    "m4 = int(input(\"Enter value of m4 : \"))\n",
    "m5 = int(input(\"Enter value of m5 : \"))\n",
    "\n",
    "m = m1 + m2 + m3+ m4+m5\n",
    "av1 =  m/5\n",
    "print(av1)\n",
    "if av1 >=90:\n",
    "  print(\"A\")\n",
    "elif av1 >=80:\n",
    "  print(\"B\")\n",
    "elif av1 >=70:\n",
    "  print(\"C\")\n",
    "elif av1 >=60:\n",
    "  print(\"D\")\n",
    "elif av1 >=50:\n",
    "  print(\"E\")\n",
    "else:\n",
    "  print(\"F\")\n",
    " "
   ]
  },
  {
   "cell_type": "code",
   "execution_count": null,
   "metadata": {},
   "outputs": [],
   "source": [
    "x=[]\n",
    "total=0\n",
    "for item in range (0,5):\n",
    "    x1 = int(input(\"Enter value\"))\n",
    "    x.append(x1)\n",
    "\n",
    "total = sum(x)\n",
    "av1 = total/5\n",
    "if av1 >=90:\n",
    "  print(\"A\")\n",
    "elif av1 >=80:\n",
    "  print(\"B\")\n",
    "elif av1 >=70:\n",
    "  print(\"C\")\n",
    "elif av1 >=60:\n",
    "  print(\"D\")\n",
    "elif av1 >=50:\n",
    "  print(\"E\")\n",
    "else:\n",
    "  print(\"F\")\n",
    " "
   ]
  },
  {
   "cell_type": "code",
   "execution_count": null,
   "metadata": {},
   "outputs": [],
   "source": [
    "print(\"Enter 5 different subjects: \")\n",
    "\n",
    "x=[]\n",
    "total = 0\n",
    "for i in range (0,5):\n",
    "    sub = int (input (\"Enter subject\" +str(i)+ \"score: \"))\n",
    "    x.append(sub)\n",
    "total = sum(x)\n",
    "av1 = total/5\n",
    "if av1 >=90:\n",
    "  print(\"A\")\n",
    "elif av1 >=80:\n",
    "  print(\"B\")\n",
    "elif av1 >=70:\n",
    "  print(\"C\")\n",
    "elif av1 >=60:\n",
    "  print(\"D\")\n",
    "elif av1 >=50:\n",
    "  print(\"E\")\n",
    "else:\n",
    "  print(\"F\")\n",
    " "
   ]
  },
  {
   "cell_type": "code",
   "execution_count": null,
   "metadata": {},
   "outputs": [],
   "source": [
    "mark_percentage = 90\n",
    "attemp = 1\n",
    "if mark_percentage >=90:\n",
    "    if attemp == 1:\n",
    "        print(\"A\")\n",
    "    elif attemp ==2:\n",
    "        print(\"B\")\n",
    "    else :\n",
    "        print(\"C\")\n"
   ]
  },
  {
   "cell_type": "code",
   "execution_count": null,
   "metadata": {},
   "outputs": [],
   "source": [
    "# And / OR in IF Statement \n",
    "loan_mount = 50000\n",
    "customer_type = \"Premeir\"\n",
    "if ((loan_mount >= 50000) and (customer_type == \"Premeir\")):\n",
    "    print(\"20%\")\n",
    "elif ((loan_mount >= 50000) or (customer_type == \"Gold\")):\n",
    "    print(\"0%\")"
   ]
  },
  {
   "cell_type": "code",
   "execution_count": null,
   "metadata": {},
   "outputs": [],
   "source": [
    "ls = [1,2,3,4,5]\n",
    "for i in range (0, len(ls)):\n",
    "    ls[i] = ls[i]*2\n",
    "\n",
    "print(ls)\n"
   ]
  },
  {
   "cell_type": "code",
   "execution_count": null,
   "metadata": {},
   "outputs": [],
   "source": [
    "ls = [1,2,3,4,5,6,7,8,9,10]\n",
    "x=[]\n",
    "y=[]\n",
    "for i in ls:\n",
    "    if(i%2==0):\n",
    "        x.append(i)\n",
    "    else:\n",
    "        y.append(i)\n",
    "\n",
    "print(\"Even:\",x)\n",
    "print(\"Odd: \",y)\n"
   ]
  },
  {
   "cell_type": "code",
   "execution_count": null,
   "metadata": {},
   "outputs": [],
   "source": [
    "for item in range(10):\n",
    "    print(item)\n",
    " "
   ]
  },
  {
   "cell_type": "code",
   "execution_count": null,
   "metadata": {},
   "outputs": [],
   "source": [
    "for item in range(20, 7, -1):\n",
    "    print(item)"
   ]
  },
  {
   "cell_type": "code",
   "execution_count": null,
   "metadata": {},
   "outputs": [],
   "source": [
    "i = 1 \n",
    "while i<=10:\n",
    "  print(i)\n",
    "  i+=1"
   ]
  },
  {
   "cell_type": "code",
   "execution_count": null,
   "metadata": {},
   "outputs": [],
   "source": [
    "j = 2\n",
    "while j<=10: \n",
    "    i = 1\n",
    "    while i<=10:\n",
    "        print(j,\"*\",i,\"=\", j*i)\n",
    "        i+=1\n",
    "    j+=1"
   ]
  },
  {
   "cell_type": "code",
   "execution_count": null,
   "metadata": {},
   "outputs": [],
   "source": [
    "fruits = ['apple', 'banana', 'cherry', 'durian', 'strawbery']\n",
    "for x in fruits:\n",
    "  if(x == 'durian'):\n",
    "    break\n",
    "  print(x)"
   ]
  }
 ],
 "metadata": {
  "kernelspec": {
   "display_name": "Python 3",
   "language": "python",
   "name": "python3"
  },
  "language_info": {
   "codemirror_mode": {
    "name": "ipython",
    "version": 3
   },
   "file_extension": ".py",
   "mimetype": "text/x-python",
   "name": "python",
   "nbconvert_exporter": "python",
   "pygments_lexer": "ipython3",
   "version": "3.12.2"
  }
 },
 "nbformat": 4,
 "nbformat_minor": 2
}
