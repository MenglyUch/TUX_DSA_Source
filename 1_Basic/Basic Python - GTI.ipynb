{
 "cells": [
  {
   "cell_type": "markdown",
   "id": "afe4f527",
   "metadata": {},
   "source": [
    "### Last class 's topic"
   ]
  },
  {
   "cell_type": "raw",
   "id": "06e9be92",
   "metadata": {},
   "source": [
    "variables and INC rules\n",
    "\n",
    "datatypes\n",
    "\n",
    "operators\n",
    "\n",
    "syntax rules\n",
    "\n",
    "control flow statements\n",
    "\n",
    "    1. Conditional statements: if elif else, ternary if\n",
    "    2. Iterative statements or loops: while, for\n",
    "        \n",
    "functions:\n",
    "print(), sum(), type()\n",
    "int(), float(), bool(), str()"
   ]
  },
  {
   "cell_type": "code",
   "execution_count": null,
   "id": "b710080f",
   "metadata": {},
   "outputs": [],
   "source": [
    "Ask the user for their name and their age. Add 1 to their age \n",
    "and display the output [Name] next birthday you \n",
    "will be [new age]."
   ]
  },
  {
   "cell_type": "code",
   "execution_count": 2,
   "id": "e79d9dc6",
   "metadata": {},
   "outputs": [
    {
     "name": "stdout",
     "output_type": "stream",
     "text": [
      "Enter your namechanto\n",
      "Enter your age28\n",
      "chanto Next birthday 29\n"
     ]
    }
   ],
   "source": [
    "name=input(\"Enter your name\")\n",
    "age=int(input(\"Enter your age\"))\n",
    "new_age=age+1\n",
    "print(name,\"Next birthday\",new_age)"
   ]
  },
  {
   "cell_type": "code",
   "execution_count": null,
   "id": "029ab301",
   "metadata": {},
   "outputs": [],
   "source": [
    "Ask the user to enter a \n",
    "number that is under \n",
    "20. If they enter a \n",
    "number that is 20 or \n",
    "more, display the \n",
    "message “Too high”, \n",
    "otherwise display \n",
    "“Thank you”. "
   ]
  },
  {
   "cell_type": "code",
   "execution_count": null,
   "id": "23bbe96b",
   "metadata": {},
   "outputs": [],
   "source": [
    "Ask the user to enter their favourite colour. If they enter “red”, “RED” or \n",
    "“Red” display the message “I like red too”, otherwise display the message \n",
    "“I don’t like [colour], I prefer red”."
   ]
  },
  {
   "cell_type": "code",
   "execution_count": null,
   "id": "27d9984e",
   "metadata": {},
   "outputs": [],
   "source": [
    "Ask the user to enter their first name and surname in lower \n",
    "case. Change the case to title case and join them together. \n",
    "Display the finished result. "
   ]
  },
  {
   "cell_type": "code",
   "execution_count": null,
   "id": "f4b87284",
   "metadata": {},
   "outputs": [],
   "source": [
    "set the total 0 to start with. While the total is 50 or less , \n",
    "ask the user to input a number. Add that number to the total\n",
    "and print the message \"The total is...[total]\". \n",
    "Stop the loop when\n",
    "the total is over 50"
   ]
  },
  {
   "cell_type": "code",
   "execution_count": 4,
   "id": "b4ce8f92",
   "metadata": {},
   "outputs": [
    {
     "name": "stdout",
     "output_type": "stream",
     "text": [
      "Enter input the number30\n",
      "The total number: 30\n",
      "Enter input the number20\n",
      "The total number: 50\n",
      "Enter input the number3\n",
      "The total number: 53\n"
     ]
    }
   ],
   "source": [
    "total=0\n",
    "while total<=50:\n",
    "    num=int(input(\"Enter input the number\"))\n",
    "    total=total+num\n",
    "    print(\"The total number:\",total)"
   ]
  },
  {
   "cell_type": "markdown",
   "id": "84a15297",
   "metadata": {},
   "source": [
    "### Today's topics"
   ]
  },
  {
   "cell_type": "raw",
   "id": "8d75b909",
   "metadata": {},
   "source": [
    "1. Iterative statements or loops: while, for, range()\n",
    "\n",
    "2. Data Structures"
   ]
  },
  {
   "cell_type": "markdown",
   "id": "4a500f08",
   "metadata": {},
   "source": [
    "#### while"
   ]
  },
  {
   "cell_type": "raw",
   "id": "c957b594",
   "metadata": {},
   "source": [
    "Properties:\n",
    "\n",
    "1. conditional loop\n",
    "2. entry controlled loop\n",
    "3. will execute for only the True conditions\n",
    "4. we must have atleast one statement to make the conditions false, else we will be in the infinite loop**\n",
    "\n",
    "\n",
    "Syntax:\n",
    "\n",
    "while condition/s:\n",
    "    line1\n",
    "    line2...    "
   ]
  },
  {
   "cell_type": "markdown",
   "id": "05eb2f60",
   "metadata": {},
   "source": [
    "#### print the numbers from 1 till 10"
   ]
  },
  {
   "cell_type": "code",
   "execution_count": 1,
   "id": "5f2d345a",
   "metadata": {},
   "outputs": [],
   "source": [
    "num = 11"
   ]
  },
  {
   "cell_type": "code",
   "execution_count": null,
   "id": "b6d63db8",
   "metadata": {},
   "outputs": [],
   "source": [
    "while num<"
   ]
  },
  {
   "cell_type": "code",
   "execution_count": 2,
   "id": "c5f30441",
   "metadata": {},
   "outputs": [],
   "source": [
    "while num <= 10:\n",
    "    print(num)"
   ]
  },
  {
   "cell_type": "code",
   "execution_count": 8,
   "id": "938751ac",
   "metadata": {},
   "outputs": [],
   "source": [
    "num = 1"
   ]
  },
  {
   "cell_type": "code",
   "execution_count": null,
   "id": "94c762c9",
   "metadata": {},
   "outputs": [],
   "source": [
    "while num <= 10:\n",
    "    print(num)\n",
    "    \n",
    "    # num += 1\n",
    "    num = num + 1   # num++ : not applicable here"
   ]
  },
  {
   "cell_type": "markdown",
   "id": "141ff07e",
   "metadata": {},
   "source": [
    "#### range() function\n",
    "\n",
    "to generate the range of numbers"
   ]
  },
  {
   "cell_type": "raw",
   "id": "e58a2593",
   "metadata": {},
   "source": [
    "range( start, end, step )\n",
    "\n",
    "range( start, end )  # step = 1\n",
    "\n",
    "range( end )         # step = 1, start = 0\n",
    "\n",
    "\n",
    "range function will generate the range of numbers from\n",
    "    1. start till end - 1, if step is positive\n",
    "    2. start till end + 1, if step is negative\n",
    "\n",
    "range function will return range object in the output\n",
    "\n",
    "Limitation: range function can work only with the INT values"
   ]
  },
  {
   "cell_type": "code",
   "execution_count": null,
   "id": "e6f17c98",
   "metadata": {},
   "outputs": [],
   "source": [
    "range( 2, 13, 2 )"
   ]
  },
  {
   "cell_type": "code",
   "execution_count": null,
   "id": "b1d35256",
   "metadata": {},
   "outputs": [],
   "source": [
    "range( 2, 11 )"
   ]
  },
  {
   "cell_type": "code",
   "execution_count": null,
   "id": "ccce2ae3",
   "metadata": {},
   "outputs": [],
   "source": [
    "range(11)"
   ]
  },
  {
   "cell_type": "markdown",
   "id": "0de81b00",
   "metadata": {},
   "source": [
    "#### for loop"
   ]
  },
  {
   "cell_type": "raw",
   "id": "0de8f054",
   "metadata": {},
   "source": [
    "Properties:\n",
    "    \n",
    "1. ranged loop\n",
    "2. before running the loop we know how many time we want to iterate\n",
    "\n",
    "\n",
    "Syntax:\n",
    "    \n",
    "for var in iterable:\n",
    "    line1\n",
    "    line2...\n",
    "\n",
    "iterable: object which contain/s multiple values"
   ]
  },
  {
   "cell_type": "code",
   "execution_count": null,
   "id": "e14e5808",
   "metadata": {},
   "outputs": [],
   "source": [
    "for var in range( 1, 6, 1 ):   # [1, 2, 3, 4, 5]\n",
    "    print(var)"
   ]
  },
  {
   "cell_type": "code",
   "execution_count": null,
   "id": "d54cd2f3",
   "metadata": {},
   "outputs": [],
   "source": [
    "for var in range( 1, 6, 2 ):   # [1, 3, 5]\n",
    "    print(var)"
   ]
  },
  {
   "cell_type": "code",
   "execution_count": null,
   "id": "0b73b5e1",
   "metadata": {},
   "outputs": [],
   "source": [
    "for var in range( 6 ):   # [0, 1, 2, 3, 4, 5]\n",
    "    print(var)"
   ]
  },
  {
   "cell_type": "code",
   "execution_count": null,
   "id": "ad930a54",
   "metadata": {},
   "outputs": [],
   "source": [
    "for var in range( 10, 0, -1 ):\n",
    "    print(var)"
   ]
  },
  {
   "cell_type": "code",
   "execution_count": 21,
   "id": "65e430b6",
   "metadata": {},
   "outputs": [],
   "source": [
    "for var in range( 1, 6, -1 ):\n",
    "    print(var)"
   ]
  },
  {
   "cell_type": "code",
   "execution_count": 25,
   "id": "838e85c3",
   "metadata": {},
   "outputs": [],
   "source": [
    "for var in range( 1, 1, 1 ):\n",
    "    print(var)"
   ]
  },
  {
   "cell_type": "code",
   "execution_count": null,
   "id": "ac360400",
   "metadata": {},
   "outputs": [],
   "source": [
    "for var in range( -2, 1, 1 ):\n",
    "    print(var)"
   ]
  },
  {
   "cell_type": "code",
   "execution_count": null,
   "id": "a9a4194c",
   "metadata": {},
   "outputs": [],
   "source": [
    "for var in range( -2, -5, -1 ):\n",
    "    print(var)"
   ]
  },
  {
   "cell_type": "markdown",
   "id": "3d1edd16",
   "metadata": {},
   "source": [
    "### Data Structures"
   ]
  },
  {
   "cell_type": "markdown",
   "id": "65e94a69",
   "metadata": {},
   "source": [
    "objects which will allow storage of the data"
   ]
  },
  {
   "cell_type": "raw",
   "id": "14fbffd6",
   "metadata": {},
   "source": [
    "basic python supports only four data structures \n",
    "\n",
    "1. tuple\n",
    "2. list\n",
    "3. dict\n",
    "4. set or keyless dict\n",
    "\n",
    "Properties: 1D, hetrogeneous, NOT allow broadcasting (mathematical operations and indexing ), allow vectoization\n",
    "\n",
    "1. Create\n",
    "2. Access the data out from data structure\n",
    "3. Update the data (if possible)\n",
    "4. How we can perform mathematical operations\n",
    "5. How we can perform indexing ( condition checking )\n",
    "6. What are the attributes (variable) and methods (functions) of the data structures\n",
    "\n",
    "\n",
    "                create                     access                  update\n",
    "-------------------------------------------------------------------------------------------------\n",
    "tuple           round brackets () or       []                      NA\n",
    "immutable       no brackets\n",
    "                type conversion\n",
    "\n",
    "list            square brackets []         []                      [] = \n",
    "mutable         type conversion\n",
    "\n",
    "dict            {}                         []                      [] = \n",
    "mutable         type conversion\n",
    "\n",
    "set             {}                         NA                      NA\n",
    "mutable         type conversion\n",
    "                \n",
    "       \n",
    "Immutable objects are the object for which cant be modified in the SAME MEMORY LOCATION\n",
    "       \n",
    "       \n",
    "type conversion functions:\n",
    "tuple()\n",
    "list()\n",
    "dict()\n",
    "set()\n",
    "\n",
    "\n",
    "Access the data from existing data structure ( tuple and list )\n",
    "1. index or position\n",
    "    [ n ]\n",
    "    we can get only one value / object in the output from the position\n",
    "    \n",
    "2. slicers\n",
    "    [ start : end : step ]\n",
    "    \n",
    "    will get the output from start till end - 1, if step is +ve\n",
    "    will get the output from start till end + 1, if step is -ve\n",
    "\n",
    "3. indexing or conditions\n",
    "    NOT directly possible bcoz BROADCASTING is NOT possible\n",
    "\n",
    "All above three operations can be done only in the square brackets []\n",
    "\n",
    "\n",
    "If we want to access the attributes or methods of an object use\n",
    "\n",
    "object_name.method_name()\n",
    "object_name.attribute_name\n",
    "\n",
    "dir() - function to get the details of attributes and methods of class or object\n",
    "\n",
    "**All the attributes and mthods starting with _ or __ can't be used in the programs**\n",
    "After writing object_name use dot . and tab key to get the list of all the attributes and methods.\n",
    "\n",
    "To get the documentation of attributes and methods\n",
    "1. use ? after the method name\n",
    "2. Use SHift + Tab by clcking inside the the round brackets of the method\n",
    "\n",
    "\n",
    "** Majority of the keywords in basic python are in lower case **\n",
    "\n",
    "Exceptions: \n",
    "True, False, None\n",
    "\n",
    "\n",
    "** after performing any operation in case you will get the output that is not a permanent change, in case of no output, either some error or permanent change or not working in code mode **"
   ]
  },
  {
   "cell_type": "markdown",
   "id": "1baaf3d9",
   "metadata": {},
   "source": [
    "#### tuples and list"
   ]
  },
  {
   "cell_type": "code",
   "execution_count": 29,
   "id": "7d5f640e",
   "metadata": {},
   "outputs": [],
   "source": [
    "var = 10"
   ]
  },
  {
   "cell_type": "markdown",
   "id": "8311706d",
   "metadata": {},
   "source": [
    "type(var)"
   ]
  },
  {
   "cell_type": "code",
   "execution_count": 1,
   "id": "de607b41",
   "metadata": {},
   "outputs": [],
   "source": [
    "t1 = 10, 20, 30, 40, 50"
   ]
  },
  {
   "cell_type": "code",
   "execution_count": 2,
   "id": "b1ce47c9",
   "metadata": {},
   "outputs": [
    {
     "data": {
      "text/plain": [
       "tuple"
      ]
     },
     "execution_count": 2,
     "metadata": {},
     "output_type": "execute_result"
    }
   ],
   "source": [
    "type(t1)"
   ]
  },
  {
   "cell_type": "code",
   "execution_count": 3,
   "id": "3c006aad",
   "metadata": {},
   "outputs": [],
   "source": [
    "t2 = (10, 20, 30, 40, 50)"
   ]
  },
  {
   "cell_type": "code",
   "execution_count": 4,
   "id": "950dd75e",
   "metadata": {},
   "outputs": [
    {
     "data": {
      "text/plain": [
       "tuple"
      ]
     },
     "execution_count": 4,
     "metadata": {},
     "output_type": "execute_result"
    }
   ],
   "source": [
    "type(t2)"
   ]
  },
  {
   "cell_type": "code",
   "execution_count": 5,
   "id": "83efbc02",
   "metadata": {},
   "outputs": [],
   "source": [
    "l1 = [10, 20, 30, 40, 50]"
   ]
  },
  {
   "cell_type": "code",
   "execution_count": 7,
   "id": "c458edd8",
   "metadata": {},
   "outputs": [
    {
     "data": {
      "text/plain": [
       "40"
      ]
     },
     "execution_count": 7,
     "metadata": {},
     "output_type": "execute_result"
    }
   ],
   "source": [
    "l1[-2]"
   ]
  },
  {
   "cell_type": "code",
   "execution_count": 6,
   "id": "fcd36be6",
   "metadata": {},
   "outputs": [
    {
     "data": {
      "text/plain": [
       "list"
      ]
     },
     "execution_count": 6,
     "metadata": {},
     "output_type": "execute_result"
    }
   ],
   "source": [
    "type(l1)"
   ]
  },
  {
   "cell_type": "code",
   "execution_count": 8,
   "id": "cbe1abf5",
   "metadata": {},
   "outputs": [],
   "source": [
    "t3 = 10, 10.5, True, 'Python', t1, l1 #Hetrogenous"
   ]
  },
  {
   "cell_type": "code",
   "execution_count": 9,
   "id": "542453b8",
   "metadata": {},
   "outputs": [
    {
     "data": {
      "text/plain": [
       "(10, 10.5, True, 'Python', (10, 20, 30, 40, 50), [10, 20, 30, 40, 50])"
      ]
     },
     "execution_count": 9,
     "metadata": {},
     "output_type": "execute_result"
    }
   ],
   "source": [
    "t3"
   ]
  },
  {
   "cell_type": "code",
   "execution_count": 1,
   "id": "7f1b11b6",
   "metadata": {},
   "outputs": [
    {
     "name": "stdout",
     "output_type": "stream",
     "text": [
      "['__add__', '__class__', '__class_getitem__', '__contains__', '__delattr__', '__dir__', '__doc__', '__eq__', '__format__', '__ge__', '__getattribute__', '__getitem__', '__getnewargs__', '__gt__', '__hash__', '__init__', '__init_subclass__', '__iter__', '__le__', '__len__', '__lt__', '__mul__', '__ne__', '__new__', '__reduce__', '__reduce_ex__', '__repr__', '__rmul__', '__setattr__', '__sizeof__', '__str__', '__subclasshook__', 'count', 'index']\n"
     ]
    }
   ],
   "source": [
    "print(dir(tuple()))"
   ]
  },
  {
   "cell_type": "code",
   "execution_count": 3,
   "id": "56594913",
   "metadata": {},
   "outputs": [
    {
     "data": {
      "text/plain": [
       "[10, 20, 30, 40]"
      ]
     },
     "execution_count": 3,
     "metadata": {},
     "output_type": "execute_result"
    }
   ],
   "source": [
    "l3=[10,20,30,40]\n",
    "l3"
   ]
  },
  {
   "cell_type": "code",
   "execution_count": 5,
   "id": "e14f0951",
   "metadata": {},
   "outputs": [
    {
     "data": {
      "text/plain": [
       "[1, 2, 3]"
      ]
     },
     "execution_count": 5,
     "metadata": {},
     "output_type": "execute_result"
    }
   ],
   "source": [
    "l4=[1,2,3]\n",
    "l4"
   ]
  },
  {
   "cell_type": "code",
   "execution_count": 7,
   "id": "1fd9e9f8",
   "metadata": {},
   "outputs": [
    {
     "data": {
      "text/plain": [
       "[10, 20, 30, 40, [1, 2, 3], [1, 2, 3]]"
      ]
     },
     "execution_count": 7,
     "metadata": {},
     "output_type": "execute_result"
    }
   ],
   "source": [
    "l3.append(l4)\n",
    "l3"
   ]
  },
  {
   "cell_type": "code",
   "execution_count": 8,
   "id": "e7560935",
   "metadata": {},
   "outputs": [
    {
     "name": "stdout",
     "output_type": "stream",
     "text": [
      "['__add__', '__class__', '__class_getitem__', '__contains__', '__delattr__', '__delitem__', '__dir__', '__doc__', '__eq__', '__format__', '__ge__', '__getattribute__', '__getitem__', '__gt__', '__hash__', '__iadd__', '__imul__', '__init__', '__init_subclass__', '__iter__', '__le__', '__len__', '__lt__', '__mul__', '__ne__', '__new__', '__reduce__', '__reduce_ex__', '__repr__', '__reversed__', '__rmul__', '__setattr__', '__setitem__', '__sizeof__', '__str__', '__subclasshook__', 'append', 'clear', 'copy', 'count', 'extend', 'index', 'insert', 'pop', 'remove', 'reverse', 'sort']\n"
     ]
    }
   ],
   "source": [
    "print(dir(list))"
   ]
  },
  {
   "cell_type": "code",
   "execution_count": 10,
   "id": "45c2175e",
   "metadata": {},
   "outputs": [
    {
     "data": {
      "text/plain": [
       "tuple"
      ]
     },
     "execution_count": 10,
     "metadata": {},
     "output_type": "execute_result"
    }
   ],
   "source": [
    "type(t3)"
   ]
  },
  {
   "cell_type": "code",
   "execution_count": 11,
   "id": "9b0e7b87",
   "metadata": {},
   "outputs": [
    {
     "data": {
      "text/plain": [
       "[10, 20, 30, 40, 50]"
      ]
     },
     "execution_count": 11,
     "metadata": {},
     "output_type": "execute_result"
    }
   ],
   "source": [
    "l1"
   ]
  },
  {
   "cell_type": "code",
   "execution_count": 12,
   "id": "d9933774",
   "metadata": {},
   "outputs": [],
   "source": [
    "t4 = tuple( l1 )"
   ]
  },
  {
   "cell_type": "code",
   "execution_count": 13,
   "id": "9ef085ea",
   "metadata": {},
   "outputs": [
    {
     "data": {
      "text/plain": [
       "(10, 20, 30, 40, 50)"
      ]
     },
     "execution_count": 13,
     "metadata": {},
     "output_type": "execute_result"
    }
   ],
   "source": [
    "t4"
   ]
  },
  {
   "cell_type": "code",
   "execution_count": 14,
   "id": "4db56fbb",
   "metadata": {},
   "outputs": [
    {
     "data": {
      "text/plain": [
       "tuple"
      ]
     },
     "execution_count": 14,
     "metadata": {},
     "output_type": "execute_result"
    }
   ],
   "source": [
    "type(t4)"
   ]
  },
  {
   "cell_type": "code",
   "execution_count": 15,
   "id": "d9688803",
   "metadata": {},
   "outputs": [
    {
     "data": {
      "text/plain": [
       "(0, 1, 2, 3, 4, 5)"
      ]
     },
     "execution_count": 15,
     "metadata": {},
     "output_type": "execute_result"
    }
   ],
   "source": [
    "tuple(range(6))"
   ]
  },
  {
   "cell_type": "code",
   "execution_count": 16,
   "id": "843f8b64",
   "metadata": {},
   "outputs": [
    {
     "data": {
      "text/plain": [
       "[0, 1, 2, 3, 4, 5]"
      ]
     },
     "execution_count": 16,
     "metadata": {},
     "output_type": "execute_result"
    }
   ],
   "source": [
    "list(range(6))"
   ]
  },
  {
   "cell_type": "code",
   "execution_count": 17,
   "id": "01b5ae5a",
   "metadata": {},
   "outputs": [
    {
     "data": {
      "text/plain": [
       "[2, 4, 6, 8, 10, 12, 14, 16, 18, 20]"
      ]
     },
     "execution_count": 17,
     "metadata": {},
     "output_type": "execute_result"
    }
   ],
   "source": [
    "# get the list of even numbers from 1 till 20\n",
    "list( range(2, 21, 2) )"
   ]
  },
  {
   "cell_type": "code",
   "execution_count": 18,
   "id": "752dcde6",
   "metadata": {},
   "outputs": [
    {
     "data": {
      "text/plain": [
       "(10, 20, 30, 40, 50)"
      ]
     },
     "execution_count": 18,
     "metadata": {},
     "output_type": "execute_result"
    }
   ],
   "source": [
    "t1"
   ]
  },
  {
   "cell_type": "code",
   "execution_count": 22,
   "id": "fb397f34",
   "metadata": {},
   "outputs": [
    {
     "data": {
      "text/plain": [
       "50"
      ]
     },
     "execution_count": 22,
     "metadata": {},
     "output_type": "execute_result"
    }
   ],
   "source": [
    "t1[-1]"
   ]
  },
  {
   "cell_type": "code",
   "execution_count": 23,
   "id": "4b461505",
   "metadata": {},
   "outputs": [
    {
     "data": {
      "text/plain": [
       "20"
      ]
     },
     "execution_count": 23,
     "metadata": {},
     "output_type": "execute_result"
    }
   ],
   "source": [
    "t1[-4]"
   ]
  },
  {
   "cell_type": "code",
   "execution_count": 24,
   "id": "43c744b7",
   "metadata": {},
   "outputs": [
    {
     "data": {
      "text/plain": [
       "(20, 30)"
      ]
     },
     "execution_count": 24,
     "metadata": {},
     "output_type": "execute_result"
    }
   ],
   "source": [
    "t1[1:3]"
   ]
  },
  {
   "cell_type": "code",
   "execution_count": 25,
   "id": "2ee91f02",
   "metadata": {},
   "outputs": [
    {
     "data": {
      "text/plain": [
       "50"
      ]
     },
     "execution_count": 25,
     "metadata": {},
     "output_type": "execute_result"
    }
   ],
   "source": [
    "t1[-1]"
   ]
  },
  {
   "cell_type": "code",
   "execution_count": 26,
   "id": "5f21228c",
   "metadata": {},
   "outputs": [
    {
     "data": {
      "text/plain": [
       "(10, 10.5, True, 'Python', (10, 20, 30, 40, 50), [10, 20, 30, 40, 50])"
      ]
     },
     "execution_count": 26,
     "metadata": {},
     "output_type": "execute_result"
    }
   ],
   "source": [
    "t3"
   ]
  },
  {
   "cell_type": "code",
   "execution_count": 27,
   "id": "46f98a3c",
   "metadata": {},
   "outputs": [
    {
     "data": {
      "text/plain": [
       "(10, 20, 30, 40, 50)"
      ]
     },
     "execution_count": 27,
     "metadata": {},
     "output_type": "execute_result"
    }
   ],
   "source": [
    "t3[4]"
   ]
  },
  {
   "cell_type": "code",
   "execution_count": 28,
   "id": "45d0aef2",
   "metadata": {},
   "outputs": [
    {
     "data": {
      "text/plain": [
       "(10, 20, 30, 40, 50)"
      ]
     },
     "execution_count": 28,
     "metadata": {},
     "output_type": "execute_result"
    }
   ],
   "source": [
    "t3[-2]"
   ]
  },
  {
   "cell_type": "code",
   "execution_count": 29,
   "id": "cdb9cafd",
   "metadata": {},
   "outputs": [
    {
     "data": {
      "text/plain": [
       "(10, 10.5, True, 'Python')"
      ]
     },
     "execution_count": 29,
     "metadata": {},
     "output_type": "execute_result"
    }
   ],
   "source": [
    "t3[ 0:4 ]"
   ]
  },
  {
   "cell_type": "code",
   "execution_count": 30,
   "id": "f23b223c",
   "metadata": {},
   "outputs": [
    {
     "data": {
      "text/plain": [
       "(10, 10.5, True, 'Python')"
      ]
     },
     "execution_count": 30,
     "metadata": {},
     "output_type": "execute_result"
    }
   ],
   "source": [
    "t3[:4]"
   ]
  },
  {
   "cell_type": "code",
   "execution_count": 31,
   "id": "d538ab1d",
   "metadata": {},
   "outputs": [
    {
     "data": {
      "text/plain": [
       "(10, 10.5, True, 'Python', (10, 20, 30, 40, 50), [10, 20, 30, 40, 50])"
      ]
     },
     "execution_count": 31,
     "metadata": {},
     "output_type": "execute_result"
    }
   ],
   "source": [
    "t3[::]"
   ]
  },
  {
   "cell_type": "code",
   "execution_count": 32,
   "id": "ea831d0c",
   "metadata": {},
   "outputs": [
    {
     "data": {
      "text/plain": [
       "'Python'"
      ]
     },
     "execution_count": 32,
     "metadata": {},
     "output_type": "execute_result"
    }
   ],
   "source": [
    "t3[3]"
   ]
  },
  {
   "cell_type": "code",
   "execution_count": 33,
   "id": "e88c496d",
   "metadata": {},
   "outputs": [
    {
     "data": {
      "text/plain": [
       "('Python', (10, 20, 30, 40, 50), [10, 20, 30, 40, 50])"
      ]
     },
     "execution_count": 33,
     "metadata": {},
     "output_type": "execute_result"
    }
   ],
   "source": [
    "t3[3:]"
   ]
  },
  {
   "cell_type": "code",
   "execution_count": 34,
   "id": "4fee8993",
   "metadata": {},
   "outputs": [
    {
     "data": {
      "text/plain": [
       "(10, 10.5, True, 'Python', (10, 20, 30, 40, 50), [10, 20, 30, 40, 50])"
      ]
     },
     "execution_count": 34,
     "metadata": {},
     "output_type": "execute_result"
    }
   ],
   "source": [
    "t3"
   ]
  },
  {
   "cell_type": "code",
   "execution_count": 35,
   "id": "bbb4bcfc",
   "metadata": {},
   "outputs": [
    {
     "data": {
      "text/plain": [
       "('Python', True, 10.5, 10)"
      ]
     },
     "execution_count": 35,
     "metadata": {},
     "output_type": "execute_result"
    }
   ],
   "source": [
    "t3[-3::-1]"
   ]
  },
  {
   "cell_type": "code",
   "execution_count": 36,
   "id": "fcf7debb",
   "metadata": {},
   "outputs": [
    {
     "data": {
      "text/plain": [
       "('Python', True, 10.5, 10)"
      ]
     },
     "execution_count": 36,
     "metadata": {},
     "output_type": "execute_result"
    }
   ],
   "source": [
    "t3[-3:-7:-1]"
   ]
  },
  {
   "cell_type": "code",
   "execution_count": 37,
   "id": "d62d8660",
   "metadata": {},
   "outputs": [
    {
     "data": {
      "text/plain": [
       "()"
      ]
     },
     "execution_count": 37,
     "metadata": {},
     "output_type": "execute_result"
    }
   ],
   "source": [
    "t3[-3:-6]"
   ]
  },
  {
   "cell_type": "code",
   "execution_count": 38,
   "id": "aa1919cc",
   "metadata": {},
   "outputs": [
    {
     "data": {
      "text/plain": [
       "[10, 20, 30, 40, 50]"
      ]
     },
     "execution_count": 38,
     "metadata": {},
     "output_type": "execute_result"
    }
   ],
   "source": [
    "t3[-1]"
   ]
  },
  {
   "cell_type": "code",
   "execution_count": 39,
   "id": "6bbd8895",
   "metadata": {},
   "outputs": [
    {
     "data": {
      "text/plain": [
       "5"
      ]
     },
     "execution_count": 39,
     "metadata": {},
     "output_type": "execute_result"
    }
   ],
   "source": [
    "len(t1)"
   ]
  },
  {
   "cell_type": "code",
   "execution_count": 40,
   "id": "2d95847d",
   "metadata": {},
   "outputs": [
    {
     "name": "stdout",
     "output_type": "stream",
     "text": [
      "['__add__', '__class__', '__contains__', '__delattr__', '__dir__', '__doc__', '__eq__', '__format__', '__ge__', '__getattribute__', '__getitem__', '__getnewargs__', '__gt__', '__hash__', '__init__', '__init_subclass__', '__iter__', '__le__', '__len__', '__lt__', '__mul__', '__ne__', '__new__', '__reduce__', '__reduce_ex__', '__repr__', '__rmul__', '__setattr__', '__sizeof__', '__str__', '__subclasshook__', 'count', 'index']\n"
     ]
    }
   ],
   "source": [
    "print(dir(tuple))"
   ]
  },
  {
   "cell_type": "code",
   "execution_count": 41,
   "id": "9b35cea2",
   "metadata": {},
   "outputs": [
    {
     "data": {
      "text/plain": [
       "6"
      ]
     },
     "execution_count": 41,
     "metadata": {},
     "output_type": "execute_result"
    }
   ],
   "source": [
    "len(t3)"
   ]
  },
  {
   "cell_type": "code",
   "execution_count": 42,
   "id": "8b548552",
   "metadata": {},
   "outputs": [
    {
     "data": {
      "text/plain": [
       "[10, 20, 30, 40, 50]"
      ]
     },
     "execution_count": 42,
     "metadata": {},
     "output_type": "execute_result"
    }
   ],
   "source": [
    "l1"
   ]
  },
  {
   "cell_type": "code",
   "execution_count": 43,
   "id": "34a4261a",
   "metadata": {},
   "outputs": [],
   "source": [
    "l2 = list( range(1, 21, 2) )"
   ]
  },
  {
   "cell_type": "code",
   "execution_count": 44,
   "id": "630552de",
   "metadata": {},
   "outputs": [
    {
     "data": {
      "text/plain": [
       "[1, 3, 5, 7, 9, 11, 13, 15, 17, 19]"
      ]
     },
     "execution_count": 44,
     "metadata": {},
     "output_type": "execute_result"
    }
   ],
   "source": [
    "l2"
   ]
  },
  {
   "cell_type": "code",
   "execution_count": 45,
   "id": "bbc603a7",
   "metadata": {},
   "outputs": [
    {
     "data": {
      "text/plain": [
       "[11, 13, 15]"
      ]
     },
     "execution_count": 45,
     "metadata": {},
     "output_type": "execute_result"
    }
   ],
   "source": [
    "l2[ 5:8 ]"
   ]
  },
  {
   "cell_type": "code",
   "execution_count": 46,
   "id": "9cb1e039",
   "metadata": {},
   "outputs": [
    {
     "data": {
      "text/plain": [
       "[1, 5, 9, 13, 17]"
      ]
     },
     "execution_count": 46,
     "metadata": {},
     "output_type": "execute_result"
    }
   ],
   "source": [
    "l2[ ::2 ]"
   ]
  },
  {
   "cell_type": "code",
   "execution_count": 47,
   "id": "10c9786a",
   "metadata": {},
   "outputs": [
    {
     "data": {
      "text/plain": [
       "[1, 5, 9, 13, 17]"
      ]
     },
     "execution_count": 47,
     "metadata": {},
     "output_type": "execute_result"
    }
   ],
   "source": [
    "l2[0::2]"
   ]
  },
  {
   "cell_type": "code",
   "execution_count": 48,
   "id": "171cf758",
   "metadata": {},
   "outputs": [
    {
     "data": {
      "text/plain": [
       "10"
      ]
     },
     "execution_count": 48,
     "metadata": {},
     "output_type": "execute_result"
    }
   ],
   "source": [
    "len(l2)"
   ]
  },
  {
   "cell_type": "code",
   "execution_count": 49,
   "id": "25a0d0d0",
   "metadata": {},
   "outputs": [
    {
     "data": {
      "text/plain": [
       "[1, 5, 9, 13, 17]"
      ]
     },
     "execution_count": 49,
     "metadata": {},
     "output_type": "execute_result"
    }
   ],
   "source": [
    "l2[ 0: len(l2) : 2 ]"
   ]
  },
  {
   "cell_type": "code",
   "execution_count": 50,
   "id": "763f2f5b",
   "metadata": {},
   "outputs": [
    {
     "data": {
      "text/plain": [
       "(10, 10.5, True, 'Python', (10, 20, 30, 40, 50), [10, 20, 30, 40, 50])"
      ]
     },
     "execution_count": 50,
     "metadata": {},
     "output_type": "execute_result"
    }
   ],
   "source": [
    "t3"
   ]
  },
  {
   "cell_type": "code",
   "execution_count": 51,
   "id": "cabc95e1",
   "metadata": {},
   "outputs": [
    {
     "data": {
      "text/plain": [
       "[10, 20, 30, 40, 50]"
      ]
     },
     "execution_count": 51,
     "metadata": {},
     "output_type": "execute_result"
    }
   ],
   "source": [
    "t3[-1]"
   ]
  },
  {
   "cell_type": "code",
   "execution_count": 52,
   "id": "8cb5163d",
   "metadata": {},
   "outputs": [
    {
     "data": {
      "text/plain": [
       "[30, 40, 50]"
      ]
     },
     "execution_count": 52,
     "metadata": {},
     "output_type": "execute_result"
    }
   ],
   "source": [
    "t3[-1][2:]"
   ]
  },
  {
   "cell_type": "code",
   "execution_count": 53,
   "id": "877d4394",
   "metadata": {},
   "outputs": [
    {
     "data": {
      "text/plain": [
       "[1, 3, 5, 7, 9, 11, 13, 15, 17, 19]"
      ]
     },
     "execution_count": 53,
     "metadata": {},
     "output_type": "execute_result"
    }
   ],
   "source": [
    "l2"
   ]
  },
  {
   "cell_type": "code",
   "execution_count": 54,
   "id": "bb264843",
   "metadata": {},
   "outputs": [
    {
     "data": {
      "text/plain": [
       "7"
      ]
     },
     "execution_count": 54,
     "metadata": {},
     "output_type": "execute_result"
    }
   ],
   "source": [
    "l2[3]"
   ]
  },
  {
   "cell_type": "code",
   "execution_count": 58,
   "id": "da0bcd23",
   "metadata": {},
   "outputs": [],
   "source": [
    "l2[3] = 99"
   ]
  },
  {
   "cell_type": "code",
   "execution_count": 59,
   "id": "947feb86",
   "metadata": {},
   "outputs": [
    {
     "data": {
      "text/plain": [
       "[1, 3, 5, 99, 9, 11, 13, 15, 17, 19]"
      ]
     },
     "execution_count": 59,
     "metadata": {},
     "output_type": "execute_result"
    }
   ],
   "source": [
    "l2"
   ]
  },
  {
   "cell_type": "code",
   "execution_count": 60,
   "id": "431df02d",
   "metadata": {},
   "outputs": [
    {
     "data": {
      "text/plain": [
       "[19, 17, 15]"
      ]
     },
     "execution_count": 60,
     "metadata": {},
     "output_type": "execute_result"
    }
   ],
   "source": [
    "l2[-1:-4:-1]"
   ]
  },
  {
   "cell_type": "code",
   "execution_count": 61,
   "id": "de2e13d2",
   "metadata": {},
   "outputs": [
    {
     "data": {
      "text/plain": [
       "[15, 17, 19]"
      ]
     },
     "execution_count": 61,
     "metadata": {},
     "output_type": "execute_result"
    }
   ],
   "source": [
    "l2[7:]"
   ]
  },
  {
   "cell_type": "code",
   "execution_count": 65,
   "id": "1496757e",
   "metadata": {},
   "outputs": [
    {
     "ename": "TypeError",
     "evalue": "can only assign an iterable",
     "output_type": "error",
     "traceback": [
      "\u001b[1;31m---------------------------------------------------------------------------\u001b[0m",
      "\u001b[1;31mTypeError\u001b[0m                                 Traceback (most recent call last)",
      "\u001b[1;32m<ipython-input-65-dc4d03e06d58>\u001b[0m in \u001b[0;36m<module>\u001b[1;34m\u001b[0m\n\u001b[1;32m----> 1\u001b[1;33m \u001b[0ml2\u001b[0m\u001b[1;33m[\u001b[0m\u001b[1;36m3\u001b[0m\u001b[1;33m:\u001b[0m\u001b[1;33m]\u001b[0m \u001b[1;33m=\u001b[0m \u001b[1;33m-\u001b[0m\u001b[1;36m3\u001b[0m   \u001b[1;31m# BROADCASTING not allowed\u001b[0m\u001b[1;33m\u001b[0m\u001b[1;33m\u001b[0m\u001b[0m\n\u001b[0m",
      "\u001b[1;31mTypeError\u001b[0m: can only assign an iterable"
     ]
    }
   ],
   "source": [
    "l2[3:] = -3   # BROADCASTING not allowed"
   ]
  },
  {
   "cell_type": "code",
   "execution_count": 66,
   "id": "d03743c5",
   "metadata": {},
   "outputs": [],
   "source": [
    "l2[3:] = [-3, -3, -3,-3,-3,-3,-3]     # VECTORIZATION is possible"
   ]
  },
  {
   "cell_type": "code",
   "execution_count": 67,
   "id": "20e035f1",
   "metadata": {},
   "outputs": [
    {
     "data": {
      "text/plain": [
       "[1, 3, 5, -3, -3, -3, -3, -3, -3, -3]"
      ]
     },
     "execution_count": 67,
     "metadata": {},
     "output_type": "execute_result"
    }
   ],
   "source": [
    "l2"
   ]
  },
  {
   "cell_type": "code",
   "execution_count": 68,
   "id": "4449e3a3",
   "metadata": {},
   "outputs": [
    {
     "ename": "TypeError",
     "evalue": "can only concatenate list (not \"int\") to list",
     "output_type": "error",
     "traceback": [
      "\u001b[1;31m---------------------------------------------------------------------------\u001b[0m",
      "\u001b[1;31mTypeError\u001b[0m                                 Traceback (most recent call last)",
      "\u001b[1;32m<ipython-input-68-7638344ed6c4>\u001b[0m in \u001b[0;36m<module>\u001b[1;34m\u001b[0m\n\u001b[1;32m----> 1\u001b[1;33m \u001b[0ml2\u001b[0m \u001b[1;33m+\u001b[0m \u001b[1;36m10\u001b[0m      \u001b[1;31m# BROADCASTING not allowed\u001b[0m\u001b[1;33m\u001b[0m\u001b[1;33m\u001b[0m\u001b[0m\n\u001b[0m",
      "\u001b[1;31mTypeError\u001b[0m: can only concatenate list (not \"int\") to list"
     ]
    }
   ],
   "source": [
    "l2 + 10      # BROADCASTING not allowed"
   ]
  },
  {
   "cell_type": "code",
   "execution_count": 69,
   "id": "d6b31104",
   "metadata": {},
   "outputs": [
    {
     "ename": "TypeError",
     "evalue": "'>' not supported between instances of 'list' and 'int'",
     "output_type": "error",
     "traceback": [
      "\u001b[1;31m---------------------------------------------------------------------------\u001b[0m",
      "\u001b[1;31mTypeError\u001b[0m                                 Traceback (most recent call last)",
      "\u001b[1;32m<ipython-input-69-3d7c73c81e2b>\u001b[0m in \u001b[0;36m<module>\u001b[1;34m\u001b[0m\n\u001b[1;32m----> 1\u001b[1;33m \u001b[0ml2\u001b[0m \u001b[1;33m>\u001b[0m \u001b[1;36m5\u001b[0m      \u001b[1;31m# BROADCASTING not allowed\u001b[0m\u001b[1;33m\u001b[0m\u001b[1;33m\u001b[0m\u001b[0m\n\u001b[0m",
      "\u001b[1;31mTypeError\u001b[0m: '>' not supported between instances of 'list' and 'int'"
     ]
    }
   ],
   "source": [
    "l2 > 5      # BROADCASTING not allowed"
   ]
  },
  {
   "cell_type": "code",
   "execution_count": 101,
   "id": "a9a6f922",
   "metadata": {},
   "outputs": [
    {
     "data": {
      "text/plain": [
       "(10, 20, 30, 40, 50)"
      ]
     },
     "execution_count": 101,
     "metadata": {},
     "output_type": "execute_result"
    }
   ],
   "source": [
    "t1"
   ]
  },
  {
   "cell_type": "code",
   "execution_count": 102,
   "id": "1c5d3084",
   "metadata": {},
   "outputs": [
    {
     "data": {
      "text/plain": [
       "30"
      ]
     },
     "execution_count": 102,
     "metadata": {},
     "output_type": "execute_result"
    }
   ],
   "source": [
    "t1[2]"
   ]
  },
  {
   "cell_type": "code",
   "execution_count": 103,
   "id": "c8627312",
   "metadata": {},
   "outputs": [
    {
     "ename": "TypeError",
     "evalue": "'tuple' object does not support item assignment",
     "output_type": "error",
     "traceback": [
      "\u001b[1;31m---------------------------------------------------------------------------\u001b[0m",
      "\u001b[1;31mTypeError\u001b[0m                                 Traceback (most recent call last)",
      "\u001b[1;32m<ipython-input-103-595d1dfc92f5>\u001b[0m in \u001b[0;36m<module>\u001b[1;34m\u001b[0m\n\u001b[1;32m----> 1\u001b[1;33m \u001b[0mt1\u001b[0m\u001b[1;33m[\u001b[0m\u001b[1;36m2\u001b[0m\u001b[1;33m]\u001b[0m \u001b[1;33m=\u001b[0m \u001b[1;33m-\u001b[0m\u001b[1;36m1\u001b[0m\u001b[1;33m\u001b[0m\u001b[1;33m\u001b[0m\u001b[0m\n\u001b[0m",
      "\u001b[1;31mTypeError\u001b[0m: 'tuple' object does not support item assignment"
     ]
    }
   ],
   "source": [
    "t1[2] = -1   # tuple is a IMMUTABLE object"
   ]
  },
  {
   "cell_type": "code",
   "execution_count": 104,
   "id": "87573b8d",
   "metadata": {},
   "outputs": [
    {
     "data": {
      "text/plain": [
       "(10, 20, 30, 40, 50)"
      ]
     },
     "execution_count": 104,
     "metadata": {},
     "output_type": "execute_result"
    }
   ],
   "source": [
    "t1"
   ]
  },
  {
   "cell_type": "code",
   "execution_count": 105,
   "id": "13ef7913",
   "metadata": {},
   "outputs": [],
   "source": [
    "t1 = 10, 20, -1, 40, 50"
   ]
  },
  {
   "cell_type": "code",
   "execution_count": 106,
   "id": "821c241a",
   "metadata": {},
   "outputs": [
    {
     "data": {
      "text/plain": [
       "(10, 20, -1, 40, 50)"
      ]
     },
     "execution_count": 106,
     "metadata": {},
     "output_type": "execute_result"
    }
   ],
   "source": [
    "t1"
   ]
  },
  {
   "cell_type": "code",
   "execution_count": 70,
   "id": "e1268470",
   "metadata": {},
   "outputs": [
    {
     "name": "stdout",
     "output_type": "stream",
     "text": [
      "['__add__', '__class__', '__contains__', '__delattr__', '__dir__', '__doc__', '__eq__', '__format__', '__ge__', '__getattribute__', '__getitem__', '__getnewargs__', '__gt__', '__hash__', '__init__', '__init_subclass__', '__iter__', '__le__', '__len__', '__lt__', '__mul__', '__ne__', '__new__', '__reduce__', '__reduce_ex__', '__repr__', '__rmul__', '__setattr__', '__sizeof__', '__str__', '__subclasshook__', 'count', 'index']\n"
     ]
    }
   ],
   "source": [
    "print(dir(tuple))"
   ]
  },
  {
   "cell_type": "code",
   "execution_count": 87,
   "id": "ed1683e8",
   "metadata": {},
   "outputs": [
    {
     "ename": "NameError",
     "evalue": "name 'l5' is not defined",
     "output_type": "error",
     "traceback": [
      "\u001b[1;31m---------------------------------------------------------------------------\u001b[0m",
      "\u001b[1;31mNameError\u001b[0m                                 Traceback (most recent call last)",
      "\u001b[1;32m<ipython-input-87-57c261c88d39>\u001b[0m in \u001b[0;36m<module>\u001b[1;34m\u001b[0m\n\u001b[1;32m----> 1\u001b[1;33m \u001b[0ml5\u001b[0m\u001b[1;33m\u001b[0m\u001b[1;33m\u001b[0m\u001b[0m\n\u001b[0m",
      "\u001b[1;31mNameError\u001b[0m: name 'l5' is not defined"
     ]
    }
   ],
   "source": [
    "l2"
   ]
  },
  {
   "cell_type": "code",
   "execution_count": 88,
   "id": "ab78f908",
   "metadata": {},
   "outputs": [],
   "source": [
    "l8=[1,2,3,2,1,2,1,3,4,3,2,5,4,3,2,1]"
   ]
  },
  {
   "cell_type": "code",
   "execution_count": 89,
   "id": "6b551550",
   "metadata": {},
   "outputs": [
    {
     "data": {
      "text/plain": [
       "[1, 2, 3, 2, 1, 2, 1, 3, 4, 3, 2, 5, 4, 3, 2, 1]"
      ]
     },
     "execution_count": 89,
     "metadata": {},
     "output_type": "execute_result"
    }
   ],
   "source": [
    "l8"
   ]
  },
  {
   "cell_type": "code",
   "execution_count": 90,
   "id": "fc8cc047",
   "metadata": {},
   "outputs": [
    {
     "ename": "TypeError",
     "evalue": "can only concatenate list (not \"int\") to list",
     "output_type": "error",
     "traceback": [
      "\u001b[1;31m---------------------------------------------------------------------------\u001b[0m",
      "\u001b[1;31mTypeError\u001b[0m                                 Traceback (most recent call last)",
      "\u001b[1;32m<ipython-input-90-ea28c1acc473>\u001b[0m in \u001b[0;36m<module>\u001b[1;34m\u001b[0m\n\u001b[1;32m----> 1\u001b[1;33m \u001b[0ml8\u001b[0m\u001b[1;33m+\u001b[0m\u001b[1;36m10\u001b[0m\u001b[1;33m\u001b[0m\u001b[1;33m\u001b[0m\u001b[0m\n\u001b[0m",
      "\u001b[1;31mTypeError\u001b[0m: can only concatenate list (not \"int\") to list"
     ]
    }
   ],
   "source": [
    "l8+10"
   ]
  },
  {
   "cell_type": "code",
   "execution_count": 91,
   "id": "9631baef",
   "metadata": {},
   "outputs": [],
   "source": [
    "l8.append(10)"
   ]
  },
  {
   "cell_type": "code",
   "execution_count": 92,
   "id": "e1546ba4",
   "metadata": {},
   "outputs": [
    {
     "data": {
      "text/plain": [
       "[1, 2, 3, 2, 1, 2, 1, 3, 4, 3, 2, 5, 4, 3, 2, 1, 10]"
      ]
     },
     "execution_count": 92,
     "metadata": {},
     "output_type": "execute_result"
    }
   ],
   "source": [
    "l8"
   ]
  },
  {
   "cell_type": "code",
   "execution_count": 95,
   "id": "fb53edf1",
   "metadata": {},
   "outputs": [
    {
     "data": {
      "text/plain": [
       "[8, -3, -3, 1, 2, 3, 2, 1, 2, 1, 3, 4, 3, 2, 5, 4, 3, 2, 1, 10]"
      ]
     },
     "execution_count": 95,
     "metadata": {},
     "output_type": "execute_result"
    }
   ],
   "source": [
    "l8.insert(0,8)\n",
    "l8"
   ]
  },
  {
   "cell_type": "code",
   "execution_count": 80,
   "id": "6e9c0e9a",
   "metadata": {},
   "outputs": [
    {
     "name": "stdout",
     "output_type": "stream",
     "text": [
      "['__add__', '__class__', '__contains__', '__delattr__', '__delitem__', '__dir__', '__doc__', '__eq__', '__format__', '__ge__', '__getattribute__', '__getitem__', '__gt__', '__hash__', '__iadd__', '__imul__', '__init__', '__init_subclass__', '__iter__', '__le__', '__len__', '__lt__', '__mul__', '__ne__', '__new__', '__reduce__', '__reduce_ex__', '__repr__', '__reversed__', '__rmul__', '__setattr__', '__setitem__', '__sizeof__', '__str__', '__subclasshook__', 'append', 'clear', 'copy', 'count', 'extend', 'index', 'insert', 'pop', 'remove', 'reverse', 'sort']\n"
     ]
    }
   ],
   "source": [
    "print(dir(list))"
   ]
  },
  {
   "cell_type": "code",
   "execution_count": 8,
   "id": "91a8399d",
   "metadata": {},
   "outputs": [],
   "source": [
    "t6=1,2,3,2,1,2,1,3,4,3,2,5,4,3,2,1"
   ]
  },
  {
   "cell_type": "code",
   "execution_count": 73,
   "id": "8501d221",
   "metadata": {},
   "outputs": [
    {
     "data": {
      "text/plain": [
       "tuple"
      ]
     },
     "execution_count": 73,
     "metadata": {},
     "output_type": "execute_result"
    }
   ],
   "source": [
    "type(t6)"
   ]
  },
  {
   "cell_type": "code",
   "execution_count": 76,
   "id": "40e0bee8",
   "metadata": {},
   "outputs": [
    {
     "data": {
      "text/plain": [
       "4"
      ]
     },
     "execution_count": 76,
     "metadata": {},
     "output_type": "execute_result"
    }
   ],
   "source": [
    "t6.count(3)"
   ]
  },
  {
   "cell_type": "code",
   "execution_count": 9,
   "id": "88532f04",
   "metadata": {},
   "outputs": [
    {
     "data": {
      "text/plain": [
       "8"
      ]
     },
     "execution_count": 9,
     "metadata": {},
     "output_type": "execute_result"
    }
   ],
   "source": [
    "t6.index(4)"
   ]
  },
  {
   "cell_type": "code",
   "execution_count": 16,
   "id": "f85265e1",
   "metadata": {},
   "outputs": [
    {
     "data": {
      "text/plain": [
       "8"
      ]
     },
     "execution_count": 16,
     "metadata": {},
     "output_type": "execute_result"
    }
   ],
   "source": [
    "t6.index(4,3)"
   ]
  },
  {
   "cell_type": "code",
   "execution_count": 108,
   "id": "f5588ec9",
   "metadata": {},
   "outputs": [
    {
     "data": {
      "text/plain": [
       "2035089455168"
      ]
     },
     "execution_count": 108,
     "metadata": {},
     "output_type": "execute_result"
    }
   ],
   "source": [
    "id(l2)"
   ]
  },
  {
   "cell_type": "code",
   "execution_count": 110,
   "id": "76022ca6",
   "metadata": {},
   "outputs": [],
   "source": [
    "l2[0] = 100"
   ]
  },
  {
   "cell_type": "code",
   "execution_count": 111,
   "id": "9e773883",
   "metadata": {},
   "outputs": [
    {
     "data": {
      "text/plain": [
       "[100, 3, 5, -1, 9, 11, 13, -1, -1, -1]"
      ]
     },
     "execution_count": 111,
     "metadata": {},
     "output_type": "execute_result"
    }
   ],
   "source": [
    "l2"
   ]
  },
  {
   "cell_type": "code",
   "execution_count": 112,
   "id": "799da606",
   "metadata": {},
   "outputs": [
    {
     "data": {
      "text/plain": [
       "2035089455168"
      ]
     },
     "execution_count": 112,
     "metadata": {},
     "output_type": "execute_result"
    }
   ],
   "source": [
    "id(l2)"
   ]
  },
  {
   "cell_type": "code",
   "execution_count": 113,
   "id": "7d1588e3",
   "metadata": {},
   "outputs": [
    {
     "data": {
      "text/plain": [
       "(10, 20, -1, 40, 50)"
      ]
     },
     "execution_count": 113,
     "metadata": {},
     "output_type": "execute_result"
    }
   ],
   "source": [
    "t1"
   ]
  },
  {
   "cell_type": "code",
   "execution_count": 114,
   "id": "7699c220",
   "metadata": {},
   "outputs": [
    {
     "data": {
      "text/plain": [
       "2035090151200"
      ]
     },
     "execution_count": 114,
     "metadata": {},
     "output_type": "execute_result"
    }
   ],
   "source": [
    "id(t1)"
   ]
  },
  {
   "cell_type": "code",
   "execution_count": 115,
   "id": "f007b985",
   "metadata": {},
   "outputs": [
    {
     "data": {
      "text/plain": [
       "10"
      ]
     },
     "execution_count": 115,
     "metadata": {},
     "output_type": "execute_result"
    }
   ],
   "source": [
    "t1[0]"
   ]
  },
  {
   "cell_type": "code",
   "execution_count": 116,
   "id": "d165677d",
   "metadata": {},
   "outputs": [
    {
     "ename": "TypeError",
     "evalue": "'tuple' object does not support item assignment",
     "output_type": "error",
     "traceback": [
      "\u001b[1;31m---------------------------------------------------------------------------\u001b[0m",
      "\u001b[1;31mTypeError\u001b[0m                                 Traceback (most recent call last)",
      "\u001b[1;32m<ipython-input-116-3c8e12ad4afd>\u001b[0m in \u001b[0;36m<module>\u001b[1;34m\u001b[0m\n\u001b[1;32m----> 1\u001b[1;33m \u001b[0mt1\u001b[0m\u001b[1;33m[\u001b[0m\u001b[1;36m0\u001b[0m\u001b[1;33m]\u001b[0m \u001b[1;33m=\u001b[0m \u001b[1;36m100\u001b[0m\u001b[1;33m\u001b[0m\u001b[1;33m\u001b[0m\u001b[0m\n\u001b[0m",
      "\u001b[1;31mTypeError\u001b[0m: 'tuple' object does not support item assignment"
     ]
    }
   ],
   "source": [
    "t1[0] = 100"
   ]
  },
  {
   "cell_type": "code",
   "execution_count": 117,
   "id": "cb076ae2",
   "metadata": {},
   "outputs": [],
   "source": [
    "t1 = 100, 20, -1, 40, 50"
   ]
  },
  {
   "cell_type": "code",
   "execution_count": 118,
   "id": "0fb80f63",
   "metadata": {},
   "outputs": [
    {
     "data": {
      "text/plain": [
       "(100, 20, -1, 40, 50)"
      ]
     },
     "execution_count": 118,
     "metadata": {},
     "output_type": "execute_result"
    }
   ],
   "source": [
    "t1"
   ]
  },
  {
   "cell_type": "code",
   "execution_count": 119,
   "id": "51f8f0db",
   "metadata": {},
   "outputs": [
    {
     "data": {
      "text/plain": [
       "2035090651472"
      ]
     },
     "execution_count": 119,
     "metadata": {},
     "output_type": "execute_result"
    }
   ],
   "source": [
    "id(t1)"
   ]
  },
  {
   "cell_type": "code",
   "execution_count": null,
   "id": "e88f20ab",
   "metadata": {},
   "outputs": [],
   "source": [
    "object_name.method_name()\n",
    "\n",
    "object_name.attribute_name"
   ]
  },
  {
   "cell_type": "code",
   "execution_count": 121,
   "id": "b1ad6798",
   "metadata": {},
   "outputs": [
    {
     "name": "stdout",
     "output_type": "stream",
     "text": [
      "['__add__', '__class__', '__contains__', '__delattr__', '__dir__', '__doc__', '__eq__', '__format__', '__ge__', '__getattribute__', '__getitem__', '__getnewargs__', '__gt__', '__hash__', '__init__', '__init_subclass__', '__iter__', '__le__', '__len__', '__lt__', '__mul__', '__ne__', '__new__', '__reduce__', '__reduce_ex__', '__repr__', '__rmul__', '__setattr__', '__sizeof__', '__str__', '__subclasshook__', 'count', 'index']\n"
     ]
    }
   ],
   "source": [
    "print( dir( tuple ) )"
   ]
  },
  {
   "cell_type": "code",
   "execution_count": 125,
   "id": "90f679b8",
   "metadata": {},
   "outputs": [],
   "source": [
    "t5 = 1, 2, 3, 2, 1, 2, 1, 3, 4, 3, 2, 5, 4, 3, 2, 1"
   ]
  },
  {
   "cell_type": "code",
   "execution_count": 128,
   "id": "457d33e2",
   "metadata": {},
   "outputs": [
    {
     "data": {
      "text/plain": [
       "1"
      ]
     },
     "execution_count": 128,
     "metadata": {},
     "output_type": "execute_result"
    }
   ],
   "source": [
    "t5.count( 5 )"
   ]
  },
  {
   "cell_type": "code",
   "execution_count": 135,
   "id": "84d16303",
   "metadata": {},
   "outputs": [
    {
     "data": {
      "text/plain": [
       "8"
      ]
     },
     "execution_count": 135,
     "metadata": {},
     "output_type": "execute_result"
    }
   ],
   "source": [
    "t5.index( 4 )"
   ]
  },
  {
   "cell_type": "code",
   "execution_count": 134,
   "id": "95572d30",
   "metadata": {},
   "outputs": [
    {
     "data": {
      "text/plain": [
       "12"
      ]
     },
     "execution_count": 134,
     "metadata": {},
     "output_type": "execute_result"
    }
   ],
   "source": [
    "t5.index( 4, 9 )"
   ]
  },
  {
   "cell_type": "code",
   "execution_count": null,
   "id": "2afc53fc",
   "metadata": {},
   "outputs": [],
   "source": [
    "t5.index( 4, t5.index( 4 ) + 1 )"
   ]
  },
  {
   "cell_type": "code",
   "execution_count": 136,
   "id": "e7eef1d6",
   "metadata": {},
   "outputs": [
    {
     "name": "stdout",
     "output_type": "stream",
     "text": [
      "['__add__', '__class__', '__contains__', '__delattr__', '__delitem__', '__dir__', '__doc__', '__eq__', '__format__', '__ge__', '__getattribute__', '__getitem__', '__gt__', '__hash__', '__iadd__', '__imul__', '__init__', '__init_subclass__', '__iter__', '__le__', '__len__', '__lt__', '__mul__', '__ne__', '__new__', '__reduce__', '__reduce_ex__', '__repr__', '__reversed__', '__rmul__', '__setattr__', '__setitem__', '__sizeof__', '__str__', '__subclasshook__', 'append', 'clear', 'copy', 'count', 'extend', 'index', 'insert', 'pop', 'remove', 'reverse', 'sort']\n"
     ]
    }
   ],
   "source": [
    "print(dir( list ))"
   ]
  },
  {
   "cell_type": "code",
   "execution_count": 139,
   "id": "68abd6b2",
   "metadata": {},
   "outputs": [],
   "source": [
    "l2.append(10)"
   ]
  },
  {
   "cell_type": "code",
   "execution_count": 149,
   "id": "7a26468e",
   "metadata": {},
   "outputs": [
    {
     "data": {
      "text/plain": [
       "[100, 3, 5, -1, 9, 11, 13, -1, -1, -1, 10, 30, 30, -1]"
      ]
     },
     "execution_count": 149,
     "metadata": {},
     "output_type": "execute_result"
    }
   ],
   "source": [
    "l2"
   ]
  },
  {
   "cell_type": "code",
   "execution_count": 150,
   "id": "a1837ead",
   "metadata": {},
   "outputs": [],
   "source": [
    "l2.insert(0, -3)"
   ]
  },
  {
   "cell_type": "code",
   "execution_count": 151,
   "id": "6a0d99cc",
   "metadata": {},
   "outputs": [
    {
     "data": {
      "text/plain": [
       "[-3, 100, 3, 5, -1, 9, 11, 13, -1, -1, -1, 10, 30, 30, -1]"
      ]
     },
     "execution_count": 151,
     "metadata": {},
     "output_type": "execute_result"
    }
   ],
   "source": [
    "l2"
   ]
  },
  {
   "cell_type": "code",
   "execution_count": 152,
   "id": "e80494d6",
   "metadata": {},
   "outputs": [
    {
     "data": {
      "text/plain": [
       "[10, 20, 30, 40, 50]"
      ]
     },
     "execution_count": 152,
     "metadata": {},
     "output_type": "execute_result"
    }
   ],
   "source": [
    "l1"
   ]
  },
  {
   "cell_type": "code",
   "execution_count": 153,
   "id": "9f998dd4",
   "metadata": {},
   "outputs": [],
   "source": [
    "l2.append(l1)"
   ]
  },
  {
   "cell_type": "code",
   "execution_count": 154,
   "id": "aaff5a1a",
   "metadata": {},
   "outputs": [
    {
     "data": {
      "text/plain": [
       "[-3,\n",
       " 100,\n",
       " 3,\n",
       " 5,\n",
       " -1,\n",
       " 9,\n",
       " 11,\n",
       " 13,\n",
       " -1,\n",
       " -1,\n",
       " -1,\n",
       " 10,\n",
       " 30,\n",
       " 30,\n",
       " -1,\n",
       " [10, 20, 30, 40, 50]]"
      ]
     },
     "execution_count": 154,
     "metadata": {},
     "output_type": "execute_result"
    }
   ],
   "source": [
    "l2"
   ]
  },
  {
   "cell_type": "code",
   "execution_count": 155,
   "id": "a23b6671",
   "metadata": {},
   "outputs": [],
   "source": [
    "l2.insert( 1, l1 )"
   ]
  },
  {
   "cell_type": "code",
   "execution_count": 156,
   "id": "acbd3436",
   "metadata": {},
   "outputs": [
    {
     "data": {
      "text/plain": [
       "[-3,\n",
       " [10, 20, 30, 40, 50],\n",
       " 100,\n",
       " 3,\n",
       " 5,\n",
       " -1,\n",
       " 9,\n",
       " 11,\n",
       " 13,\n",
       " -1,\n",
       " -1,\n",
       " -1,\n",
       " 10,\n",
       " 30,\n",
       " 30,\n",
       " -1,\n",
       " [10, 20, 30, 40, 50]]"
      ]
     },
     "execution_count": 156,
     "metadata": {},
     "output_type": "execute_result"
    }
   ],
   "source": [
    "l2"
   ]
  },
  {
   "cell_type": "code",
   "execution_count": 158,
   "id": "fc78d01f",
   "metadata": {},
   "outputs": [],
   "source": [
    "l2.extend( l1 )"
   ]
  },
  {
   "cell_type": "code",
   "execution_count": 159,
   "id": "1058aa28",
   "metadata": {},
   "outputs": [
    {
     "data": {
      "text/plain": [
       "[-3,\n",
       " [10, 20, 30, 40, 50],\n",
       " 100,\n",
       " 3,\n",
       " 5,\n",
       " -1,\n",
       " 9,\n",
       " 11,\n",
       " 13,\n",
       " -1,\n",
       " -1,\n",
       " -1,\n",
       " 10,\n",
       " 30,\n",
       " 30,\n",
       " -1,\n",
       " [10, 20, 30, 40, 50],\n",
       " 10,\n",
       " 20,\n",
       " 30,\n",
       " 40,\n",
       " 50]"
      ]
     },
     "execution_count": 159,
     "metadata": {},
     "output_type": "execute_result"
    }
   ],
   "source": [
    "l2"
   ]
  },
  {
   "cell_type": "code",
   "execution_count": 161,
   "id": "dde83e4c",
   "metadata": {},
   "outputs": [],
   "source": [
    "l3 = [10, 20, 30, 40]"
   ]
  },
  {
   "cell_type": "code",
   "execution_count": 162,
   "id": "bc6050c3",
   "metadata": {},
   "outputs": [],
   "source": [
    "l4 = [1, 2, 3]"
   ]
  },
  {
   "cell_type": "code",
   "execution_count": 163,
   "id": "01bae6a5",
   "metadata": {},
   "outputs": [
    {
     "data": {
      "text/plain": [
       "[10, 20, 30, 40]"
      ]
     },
     "execution_count": 163,
     "metadata": {},
     "output_type": "execute_result"
    }
   ],
   "source": [
    "l3"
   ]
  },
  {
   "cell_type": "code",
   "execution_count": 164,
   "id": "9e0c03ed",
   "metadata": {},
   "outputs": [
    {
     "data": {
      "text/plain": [
       "[1, 2, 3]"
      ]
     },
     "execution_count": 164,
     "metadata": {},
     "output_type": "execute_result"
    }
   ],
   "source": [
    "l4"
   ]
  },
  {
   "cell_type": "code",
   "execution_count": 165,
   "id": "640a93a8",
   "metadata": {},
   "outputs": [
    {
     "data": {
      "text/plain": [
       "[10, 20, 30, 40, [1, 2, 3]]"
      ]
     },
     "execution_count": 165,
     "metadata": {},
     "output_type": "execute_result"
    }
   ],
   "source": [
    "l3.append(l4)\n",
    "l3"
   ]
  },
  {
   "cell_type": "code",
   "execution_count": 166,
   "id": "8d9f3c88",
   "metadata": {},
   "outputs": [],
   "source": [
    "l3.insert(0, l4)"
   ]
  },
  {
   "cell_type": "code",
   "execution_count": 167,
   "id": "b6465037",
   "metadata": {},
   "outputs": [
    {
     "data": {
      "text/plain": [
       "[[1, 2, 3], 10, 20, 30, 40, [1, 2, 3]]"
      ]
     },
     "execution_count": 167,
     "metadata": {},
     "output_type": "execute_result"
    }
   ],
   "source": [
    "l3"
   ]
  },
  {
   "cell_type": "code",
   "execution_count": 168,
   "id": "aca39a69",
   "metadata": {},
   "outputs": [],
   "source": [
    "l3.extend(l4)"
   ]
  },
  {
   "cell_type": "code",
   "execution_count": 169,
   "id": "4675c71d",
   "metadata": {},
   "outputs": [
    {
     "data": {
      "text/plain": [
       "[[1, 2, 3], 10, 20, 30, 40, [1, 2, 3], 1, 2, 3]"
      ]
     },
     "execution_count": 169,
     "metadata": {},
     "output_type": "execute_result"
    }
   ],
   "source": [
    "l3"
   ]
  },
  {
   "cell_type": "code",
   "execution_count": 171,
   "id": "9cd60504",
   "metadata": {},
   "outputs": [
    {
     "data": {
      "text/plain": [
       "(10, 10.5, True, 'Python', (10, 20, 30, 40, 50), [10, 20, 30, 40, 50])"
      ]
     },
     "execution_count": 171,
     "metadata": {},
     "output_type": "execute_result"
    }
   ],
   "source": [
    "t3"
   ]
  },
  {
   "cell_type": "code",
   "execution_count": 170,
   "id": "08116315",
   "metadata": {},
   "outputs": [],
   "source": [
    "l3.extend( t3 )"
   ]
  },
  {
   "cell_type": "code",
   "execution_count": 172,
   "id": "5bf63b1e",
   "metadata": {},
   "outputs": [
    {
     "data": {
      "text/plain": [
       "[[1, 2, 3],\n",
       " 10,\n",
       " 20,\n",
       " 30,\n",
       " 40,\n",
       " [1, 2, 3],\n",
       " 1,\n",
       " 2,\n",
       " 3,\n",
       " 10,\n",
       " 10.5,\n",
       " True,\n",
       " 'Python',\n",
       " (10, 20, 30, 40, 50),\n",
       " [10, 20, 30, 40, 50]]"
      ]
     },
     "execution_count": 172,
     "metadata": {},
     "output_type": "execute_result"
    }
   ],
   "source": [
    "l3"
   ]
  },
  {
   "cell_type": "code",
   "execution_count": 173,
   "id": "ec4100f6",
   "metadata": {},
   "outputs": [
    {
     "data": {
      "text/plain": [
       "[1, 2, 3]"
      ]
     },
     "execution_count": 173,
     "metadata": {},
     "output_type": "execute_result"
    }
   ],
   "source": [
    "l4"
   ]
  },
  {
   "cell_type": "code",
   "execution_count": 174,
   "id": "54ab125f",
   "metadata": {},
   "outputs": [],
   "source": [
    "l4.clear()"
   ]
  },
  {
   "cell_type": "code",
   "execution_count": 175,
   "id": "cda05832",
   "metadata": {},
   "outputs": [
    {
     "data": {
      "text/plain": [
       "[]"
      ]
     },
     "execution_count": 175,
     "metadata": {},
     "output_type": "execute_result"
    }
   ],
   "source": [
    "l4"
   ]
  },
  {
   "cell_type": "code",
   "execution_count": 178,
   "id": "5a3daee5",
   "metadata": {},
   "outputs": [
    {
     "data": {
      "text/plain": [
       "[10, 20, 30, 40, 50]"
      ]
     },
     "execution_count": 178,
     "metadata": {},
     "output_type": "execute_result"
    }
   ],
   "source": [
    "l3.pop()"
   ]
  },
  {
   "cell_type": "code",
   "execution_count": 179,
   "id": "f8f4d968",
   "metadata": {},
   "outputs": [
    {
     "data": {
      "text/plain": [
       "[[],\n",
       " 10,\n",
       " 20,\n",
       " 30,\n",
       " 40,\n",
       " [],\n",
       " 1,\n",
       " 2,\n",
       " 3,\n",
       " 10,\n",
       " 10.5,\n",
       " True,\n",
       " 'Python',\n",
       " (10, 20, 30, 40, 50)]"
      ]
     },
     "execution_count": 179,
     "metadata": {},
     "output_type": "execute_result"
    }
   ],
   "source": [
    "l3"
   ]
  },
  {
   "cell_type": "code",
   "execution_count": 180,
   "id": "3f26fd84",
   "metadata": {},
   "outputs": [
    {
     "data": {
      "text/plain": [
       "[]"
      ]
     },
     "execution_count": 180,
     "metadata": {},
     "output_type": "execute_result"
    }
   ],
   "source": [
    "l3.pop(0)"
   ]
  },
  {
   "cell_type": "code",
   "execution_count": 181,
   "id": "1b1d5a29",
   "metadata": {},
   "outputs": [
    {
     "data": {
      "text/plain": [
       "[10, 20, 30, 40, [], 1, 2, 3, 10, 10.5, True, 'Python', (10, 20, 30, 40, 50)]"
      ]
     },
     "execution_count": 181,
     "metadata": {},
     "output_type": "execute_result"
    }
   ],
   "source": [
    "l3"
   ]
  },
  {
   "cell_type": "code",
   "execution_count": 183,
   "id": "9cb070de",
   "metadata": {},
   "outputs": [],
   "source": [
    "l3.remove( 1 )"
   ]
  },
  {
   "cell_type": "code",
   "execution_count": 184,
   "id": "bb0254b7",
   "metadata": {},
   "outputs": [
    {
     "data": {
      "text/plain": [
       "[10, 20, 30, 40, [], 2, 3, 10, 10.5, True, 'Python', (10, 20, 30, 40, 50)]"
      ]
     },
     "execution_count": 184,
     "metadata": {},
     "output_type": "execute_result"
    }
   ],
   "source": [
    "l3"
   ]
  },
  {
   "cell_type": "code",
   "execution_count": 185,
   "id": "fb8d4b80",
   "metadata": {},
   "outputs": [
    {
     "data": {
      "text/plain": [
       "[10, 20, 30, 40, 50]"
      ]
     },
     "execution_count": 185,
     "metadata": {},
     "output_type": "execute_result"
    }
   ],
   "source": [
    "l1"
   ]
  },
  {
   "cell_type": "code",
   "execution_count": 186,
   "id": "1cf7bcae",
   "metadata": {},
   "outputs": [],
   "source": [
    "l1.reverse()"
   ]
  },
  {
   "cell_type": "code",
   "execution_count": 187,
   "id": "d742786c",
   "metadata": {},
   "outputs": [
    {
     "data": {
      "text/plain": [
       "[50, 40, 30, 20, 10]"
      ]
     },
     "execution_count": 187,
     "metadata": {},
     "output_type": "execute_result"
    }
   ],
   "source": [
    "l1"
   ]
  },
  {
   "cell_type": "code",
   "execution_count": 188,
   "id": "aa3dc846",
   "metadata": {},
   "outputs": [
    {
     "data": {
      "text/plain": [
       "[10, 20, 30, 40, 50]"
      ]
     },
     "execution_count": 188,
     "metadata": {},
     "output_type": "execute_result"
    }
   ],
   "source": [
    "l1[::-1]"
   ]
  },
  {
   "cell_type": "code",
   "execution_count": 189,
   "id": "65302bfd",
   "metadata": {},
   "outputs": [
    {
     "data": {
      "text/plain": [
       "[50, 40, 30, 20, 10]"
      ]
     },
     "execution_count": 189,
     "metadata": {},
     "output_type": "execute_result"
    }
   ],
   "source": [
    "l1"
   ]
  },
  {
   "cell_type": "code",
   "execution_count": 191,
   "id": "6c4a4276",
   "metadata": {},
   "outputs": [],
   "source": [
    "l1.sort()"
   ]
  },
  {
   "cell_type": "code",
   "execution_count": 192,
   "id": "36e1a2b9",
   "metadata": {},
   "outputs": [
    {
     "data": {
      "text/plain": [
       "[10, 20, 30, 40, 50]"
      ]
     },
     "execution_count": 192,
     "metadata": {},
     "output_type": "execute_result"
    }
   ],
   "source": [
    "l1"
   ]
  },
  {
   "cell_type": "code",
   "execution_count": 196,
   "id": "822ee617",
   "metadata": {},
   "outputs": [],
   "source": [
    "l5 = list(t5)"
   ]
  },
  {
   "cell_type": "code",
   "execution_count": 197,
   "id": "a16cb1e9",
   "metadata": {},
   "outputs": [
    {
     "data": {
      "text/plain": [
       "[1, 2, 3, 2, 1, 2, 1, 3, 4, 3, 2, 5, 4, 3, 2, 1]"
      ]
     },
     "execution_count": 197,
     "metadata": {},
     "output_type": "execute_result"
    }
   ],
   "source": [
    "l5"
   ]
  },
  {
   "cell_type": "code",
   "execution_count": 198,
   "id": "383c7909",
   "metadata": {},
   "outputs": [],
   "source": [
    "l5.sort()"
   ]
  },
  {
   "cell_type": "code",
   "execution_count": 199,
   "id": "e856fc22",
   "metadata": {},
   "outputs": [
    {
     "data": {
      "text/plain": [
       "[1, 1, 1, 1, 2, 2, 2, 2, 2, 3, 3, 3, 3, 4, 4, 5]"
      ]
     },
     "execution_count": 199,
     "metadata": {},
     "output_type": "execute_result"
    }
   ],
   "source": [
    "l5"
   ]
  },
  {
   "cell_type": "code",
   "execution_count": 200,
   "id": "dc41008c",
   "metadata": {},
   "outputs": [],
   "source": [
    "l5.sort( reverse = True )"
   ]
  },
  {
   "cell_type": "code",
   "execution_count": 201,
   "id": "d4af0742",
   "metadata": {},
   "outputs": [
    {
     "data": {
      "text/plain": [
       "[5, 4, 4, 3, 3, 3, 3, 2, 2, 2, 2, 2, 1, 1, 1, 1]"
      ]
     },
     "execution_count": 201,
     "metadata": {},
     "output_type": "execute_result"
    }
   ],
   "source": [
    "l5"
   ]
  },
  {
   "cell_type": "markdown",
   "id": "a7600923",
   "metadata": {},
   "source": [
    "#### Passing the value or Passing the reference; in PYTHON everything is passed by reference"
   ]
  },
  {
   "cell_type": "code",
   "execution_count": 202,
   "id": "1175a344",
   "metadata": {},
   "outputs": [],
   "source": [
    "l6 = [10, 20, 30, 40, 50]"
   ]
  },
  {
   "cell_type": "code",
   "execution_count": 203,
   "id": "c27e3a24",
   "metadata": {},
   "outputs": [
    {
     "data": {
      "text/plain": [
       "[10, 20, 30, 40, 50]"
      ]
     },
     "execution_count": 203,
     "metadata": {},
     "output_type": "execute_result"
    }
   ],
   "source": [
    "l6"
   ]
  },
  {
   "cell_type": "code",
   "execution_count": 204,
   "id": "0543710a",
   "metadata": {},
   "outputs": [],
   "source": [
    "l7 = l6"
   ]
  },
  {
   "cell_type": "code",
   "execution_count": 205,
   "id": "09e13562",
   "metadata": {},
   "outputs": [
    {
     "data": {
      "text/plain": [
       "[10, 20, 30, 40, 50]"
      ]
     },
     "execution_count": 205,
     "metadata": {},
     "output_type": "execute_result"
    }
   ],
   "source": [
    "l7"
   ]
  },
  {
   "cell_type": "code",
   "execution_count": 209,
   "id": "705b6351",
   "metadata": {},
   "outputs": [],
   "source": [
    "l7[2] = -1"
   ]
  },
  {
   "cell_type": "code",
   "execution_count": 210,
   "id": "160557b9",
   "metadata": {},
   "outputs": [
    {
     "data": {
      "text/plain": [
       "[10, 20, -1, 40, 50]"
      ]
     },
     "execution_count": 210,
     "metadata": {},
     "output_type": "execute_result"
    }
   ],
   "source": [
    "l7"
   ]
  },
  {
   "cell_type": "code",
   "execution_count": 211,
   "id": "de0a38fa",
   "metadata": {},
   "outputs": [
    {
     "data": {
      "text/plain": [
       "[10, 20, -1, 40, 50]"
      ]
     },
     "execution_count": 211,
     "metadata": {},
     "output_type": "execute_result"
    }
   ],
   "source": [
    "l6"
   ]
  },
  {
   "cell_type": "code",
   "execution_count": 212,
   "id": "92a2750d",
   "metadata": {},
   "outputs": [
    {
     "data": {
      "text/plain": [
       "2035106433280"
      ]
     },
     "execution_count": 212,
     "metadata": {},
     "output_type": "execute_result"
    }
   ],
   "source": [
    "id(l6)"
   ]
  },
  {
   "cell_type": "code",
   "execution_count": 213,
   "id": "2a80c860",
   "metadata": {},
   "outputs": [
    {
     "data": {
      "text/plain": [
       "2035106433280"
      ]
     },
     "execution_count": 213,
     "metadata": {},
     "output_type": "execute_result"
    }
   ],
   "source": [
    "id(l7)"
   ]
  },
  {
   "cell_type": "code",
   "execution_count": 214,
   "id": "a2c44de7",
   "metadata": {},
   "outputs": [],
   "source": [
    "l8 = l7.copy()"
   ]
  },
  {
   "cell_type": "code",
   "execution_count": 215,
   "id": "338a5b05",
   "metadata": {},
   "outputs": [
    {
     "data": {
      "text/plain": [
       "2035106554752"
      ]
     },
     "execution_count": 215,
     "metadata": {},
     "output_type": "execute_result"
    }
   ],
   "source": [
    "id(l8)"
   ]
  },
  {
   "cell_type": "code",
   "execution_count": 217,
   "id": "1cd3a7f2",
   "metadata": {},
   "outputs": [],
   "source": [
    "t7 = 1, 2, 3, 4, 5"
   ]
  },
  {
   "cell_type": "code",
   "execution_count": 218,
   "id": "7c8505b7",
   "metadata": {},
   "outputs": [
    {
     "data": {
      "text/plain": [
       "2035106123664"
      ]
     },
     "execution_count": 218,
     "metadata": {},
     "output_type": "execute_result"
    }
   ],
   "source": [
    "id(t7)"
   ]
  },
  {
   "cell_type": "code",
   "execution_count": 219,
   "id": "03f563d7",
   "metadata": {},
   "outputs": [],
   "source": [
    "t8 = t7"
   ]
  },
  {
   "cell_type": "code",
   "execution_count": 220,
   "id": "e738aaff",
   "metadata": {},
   "outputs": [
    {
     "data": {
      "text/plain": [
       "(1, 2, 3, 4, 5)"
      ]
     },
     "execution_count": 220,
     "metadata": {},
     "output_type": "execute_result"
    }
   ],
   "source": [
    "t8"
   ]
  },
  {
   "cell_type": "code",
   "execution_count": 221,
   "id": "2ca2dd6f",
   "metadata": {},
   "outputs": [
    {
     "data": {
      "text/plain": [
       "2035106123664"
      ]
     },
     "execution_count": 221,
     "metadata": {},
     "output_type": "execute_result"
    }
   ],
   "source": [
    "id(t8)"
   ]
  },
  {
   "cell_type": "code",
   "execution_count": null,
   "id": "a0d09a41",
   "metadata": {},
   "outputs": [],
   "source": [
    "summarize: tuple and list"
   ]
  },
  {
   "cell_type": "markdown",
   "id": "0bf01a7a",
   "metadata": {},
   "source": [
    "Dictionary:  key values pair:   {}\n",
    "syntax:        \n",
    "    \n",
    "    {key1:value1, key2:value2 ,key3:values3,...................}\n",
    "    \n",
    "keys can only be immutable type, values be anathing\n",
    "\n",
    "immutable: typle,variable, int ,float, str, bolean,\n",
    "    \n",
    "***Key can't duplicated in dictionary ***\n",
    "\n",
    "if the key already avaible and we try to give new values,\n",
    "values for existing key will get updated\n",
    "\n",
    "\n",
    "if the key is not available , we can't acccess the dict using that key\n",
    "\n",
    "\n",
    "if the key is not available ; we try give new key values pair, new entry will be there in the dictionary\n",
    " values in the dict will not have index or position;\n",
    "    \n",
    " we can acccess the data only using keys or through iterations   "
   ]
  },
  {
   "cell_type": "code",
   "execution_count": 12,
   "id": "957ffdbd",
   "metadata": {},
   "outputs": [
    {
     "name": "stdout",
     "output_type": "stream",
     "text": [
      "hello\n"
     ]
    }
   ],
   "source": [
    "def myPythonFunction():\n",
    "    print(\"hello\")\n",
    "myPythonFunction()"
   ]
  },
  {
   "cell_type": "code",
   "execution_count": 13,
   "id": "f4176e2b",
   "metadata": {},
   "outputs": [
    {
     "data": {
      "text/plain": [
       "80"
      ]
     },
     "execution_count": 13,
     "metadata": {},
     "output_type": "execute_result"
    }
   ],
   "source": [
    "def numberaddition(a,b):\n",
    "    return a+b\n",
    "\n",
    "numberaddition(50,30)"
   ]
  },
  {
   "cell_type": "code",
   "execution_count": 15,
   "id": "2a1b18a8",
   "metadata": {},
   "outputs": [
    {
     "data": {
      "text/plain": [
       "10.0"
      ]
     },
     "execution_count": 15,
     "metadata": {},
     "output_type": "execute_result"
    }
   ],
   "source": [
    "def numberDivision(a,b):\n",
    "    return a/b\n",
    "\n",
    "numberDivision(100,10)"
   ]
  },
  {
   "cell_type": "code",
   "execution_count": null,
   "id": "bd9c077b",
   "metadata": {},
   "outputs": [],
   "source": [
    "#Area square \n",
    "#Area Rectangle"
   ]
  },
  {
   "cell_type": "code",
   "execution_count": 18,
   "id": "f05f36ab",
   "metadata": {},
   "outputs": [
    {
     "data": {
      "text/plain": [
       "1234"
      ]
     },
     "execution_count": 18,
     "metadata": {},
     "output_type": "execute_result"
    }
   ],
   "source": [
    "def numberAddition(*args):\n",
    "    result=0\n",
    "    for num in args:\n",
    "        result=result+num\n",
    "    return result\n",
    "\n",
    "numberAddition(1,11,111,1111)"
   ]
  },
  {
   "cell_type": "code",
   "execution_count": null,
   "id": "fabc8d2c",
   "metadata": {},
   "outputs": [],
   "source": [
    "Lambda: syntax\n",
    "    \n",
    "    lambda input_parameter : function\n",
    "    lambda a,b:a+b\n",
    "    \n",
    "addtion two number     "
   ]
  },
  {
   "cell_type": "code",
   "execution_count": 20,
   "id": "a665201d",
   "metadata": {},
   "outputs": [
    {
     "data": {
      "text/plain": [
       "17"
      ]
     },
     "execution_count": 20,
     "metadata": {},
     "output_type": "execute_result"
    }
   ],
   "source": [
    "twoNumberAddition = lambda a,b:a+b\n",
    "twoNumberAddition(8,9)"
   ]
  },
  {
   "cell_type": "code",
   "execution_count": 25,
   "id": "77a9b632",
   "metadata": {},
   "outputs": [
    {
     "name": "stdout",
     "output_type": "stream",
     "text": [
      "even number: [90, 4]\n"
     ]
    }
   ],
   "source": [
    "number_list=[1,5,67,89,90,4,5,7,45]\n",
    "even_number=list(filter(lambda number_list:number_list%2==0,number_list))\n",
    "print(\"even number:\",even_number)"
   ]
  },
  {
   "cell_type": "code",
   "execution_count": null,
   "id": "555132ea",
   "metadata": {},
   "outputs": [],
   "source": []
  },
  {
   "cell_type": "code",
   "execution_count": 96,
   "id": "b3e0a073",
   "metadata": {},
   "outputs": [
    {
     "data": {
      "text/plain": [
       "dict"
      ]
     },
     "execution_count": 96,
     "metadata": {},
     "output_type": "execute_result"
    }
   ],
   "source": [
    "d1={}\n",
    "type(d1)"
   ]
  },
  {
   "cell_type": "code",
   "execution_count": 97,
   "id": "5e74219a",
   "metadata": {},
   "outputs": [
    {
     "data": {
      "text/plain": [
       "{1: 10, 2: 20, 3: 30, 4: 40, 5: 50}"
      ]
     },
     "execution_count": 97,
     "metadata": {},
     "output_type": "execute_result"
    }
   ],
   "source": [
    "d2={1:10,2:20,3:30,4:40,5:50}\n",
    "d2"
   ]
  },
  {
   "cell_type": "code",
   "execution_count": 100,
   "id": "e9cd653e",
   "metadata": {},
   "outputs": [
    {
     "data": {
      "text/plain": [
       "50"
      ]
     },
     "execution_count": 100,
     "metadata": {},
     "output_type": "execute_result"
    }
   ],
   "source": [
    "d2[5]"
   ]
  },
  {
   "cell_type": "code",
   "execution_count": 101,
   "id": "6a376d77",
   "metadata": {},
   "outputs": [
    {
     "data": {
      "text/plain": [
       "{1: 10, 2: 10.5, 3: 'John', 4: True}"
      ]
     },
     "execution_count": 101,
     "metadata": {},
     "output_type": "execute_result"
    }
   ],
   "source": [
    "d3={1:10,2:10.5,3:'John',4:True}\n",
    "d3"
   ]
  },
  {
   "cell_type": "code",
   "execution_count": 102,
   "id": "55d7c620",
   "metadata": {},
   "outputs": [
    {
     "data": {
      "text/plain": [
       "'John'"
      ]
     },
     "execution_count": 102,
     "metadata": {},
     "output_type": "execute_result"
    }
   ],
   "source": [
    "d3[3]"
   ]
  },
  {
   "cell_type": "code",
   "execution_count": 103,
   "id": "d083db97",
   "metadata": {},
   "outputs": [
    {
     "data": {
      "text/plain": [
       "{1: 10, 1.5: 30, 'Name': 'John'}"
      ]
     },
     "execution_count": 103,
     "metadata": {},
     "output_type": "execute_result"
    }
   ],
   "source": [
    "d4={1:10,1.5:30,'Name':'John'}\n",
    "d4"
   ]
  },
  {
   "cell_type": "code",
   "execution_count": 104,
   "id": "e701b2d6",
   "metadata": {},
   "outputs": [
    {
     "data": {
      "text/plain": [
       "{1: 40, 2: 20, 3: 30}"
      ]
     },
     "execution_count": 104,
     "metadata": {},
     "output_type": "execute_result"
    }
   ],
   "source": [
    "d5={1:10,2:20,3:30,1:40}\n",
    "d5"
   ]
  },
  {
   "cell_type": "code",
   "execution_count": 105,
   "id": "bddedaef",
   "metadata": {},
   "outputs": [
    {
     "data": {
      "text/plain": [
       "{1: 40, 2: 20, 3: 30}"
      ]
     },
     "execution_count": 105,
     "metadata": {},
     "output_type": "execute_result"
    }
   ],
   "source": [
    "d6={1:10,2:20,3:30,True:40}\n",
    "d6"
   ]
  },
  {
   "cell_type": "code",
   "execution_count": 106,
   "id": "68c5c916",
   "metadata": {},
   "outputs": [
    {
     "data": {
      "text/plain": [
       "{'Name': ['Jane', 'John', 'Elen', 'Sam'],\n",
       " 'Age': [20, 30, 23, 33],\n",
       " 'Salary': [100.5, 900, 150, 200]}"
      ]
     },
     "execution_count": 106,
     "metadata": {},
     "output_type": "execute_result"
    }
   ],
   "source": [
    "d7={'Name':['Jane','John','Elen','Sam'],\n",
    "        'Age':[20,30,23,33],\n",
    "        'Salary':[100.5,900,150,200]}\n",
    "d7   "
   ]
  },
  {
   "cell_type": "code",
   "execution_count": 107,
   "id": "e3432f2c",
   "metadata": {},
   "outputs": [
    {
     "name": "stdout",
     "output_type": "stream",
     "text": [
      "['__class__', '__contains__', '__delattr__', '__delitem__', '__dir__', '__doc__', '__eq__', '__format__', '__ge__', '__getattribute__', '__getitem__', '__gt__', '__hash__', '__init__', '__init_subclass__', '__iter__', '__le__', '__len__', '__lt__', '__ne__', '__new__', '__reduce__', '__reduce_ex__', '__repr__', '__reversed__', '__setattr__', '__setitem__', '__sizeof__', '__str__', '__subclasshook__', 'clear', 'copy', 'fromkeys', 'get', 'items', 'keys', 'pop', 'popitem', 'setdefault', 'update', 'values']\n"
     ]
    }
   ],
   "source": [
    "print(dir(dict))"
   ]
  },
  {
   "cell_type": "code",
   "execution_count": 108,
   "id": "bd8c66f6",
   "metadata": {},
   "outputs": [
    {
     "data": {
      "text/plain": [
       "dict_keys(['Name', 'Age', 'Salary'])"
      ]
     },
     "execution_count": 108,
     "metadata": {},
     "output_type": "execute_result"
    }
   ],
   "source": [
    "d7.keys()"
   ]
  },
  {
   "cell_type": "code",
   "execution_count": 109,
   "id": "3be60fb4",
   "metadata": {},
   "outputs": [
    {
     "data": {
      "text/plain": [
       "dict_values([['Jane', 'John', 'Elen', 'Sam'], [20, 30, 23, 33], [100.5, 900, 150, 200]])"
      ]
     },
     "execution_count": 109,
     "metadata": {},
     "output_type": "execute_result"
    }
   ],
   "source": [
    "d7.values()"
   ]
  },
  {
   "cell_type": "code",
   "execution_count": 110,
   "id": "fae954ad",
   "metadata": {},
   "outputs": [
    {
     "data": {
      "text/plain": [
       "dict_items([('Name', ['Jane', 'John', 'Elen', 'Sam']), ('Age', [20, 30, 23, 33]), ('Salary', [100.5, 900, 150, 200])])"
      ]
     },
     "execution_count": 110,
     "metadata": {},
     "output_type": "execute_result"
    }
   ],
   "source": [
    "d7.items()"
   ]
  },
  {
   "cell_type": "markdown",
   "id": "83db50b9",
   "metadata": {},
   "source": [
    "dictionary : key values pairs {}\n",
    "\n",
    "set : keyless dict ,mutable objects \n",
    "\n",
    "syntax: {v1,v2,v3,v4,v5,v6,,,,,,,,,,,,,,,}\n",
    "\n",
    "can't be accessed using index and neither the keys\n",
    "\n",
    "s1={1,2,3,4,5,6}"
   ]
  },
  {
   "cell_type": "code",
   "execution_count": 10,
   "id": "8aa2fe15",
   "metadata": {},
   "outputs": [
    {
     "data": {
      "text/plain": [
       "{1, 2, 3, 4, 5, 6}"
      ]
     },
     "execution_count": 10,
     "metadata": {},
     "output_type": "execute_result"
    }
   ],
   "source": [
    "s1={1,2,3,4,5,6}\n",
    "s1"
   ]
  },
  {
   "cell_type": "code",
   "execution_count": 11,
   "id": "573d947c",
   "metadata": {},
   "outputs": [
    {
     "data": {
      "text/plain": [
       "{10, 20, 30, 40, 50}"
      ]
     },
     "execution_count": 11,
     "metadata": {},
     "output_type": "execute_result"
    }
   ],
   "source": [
    "s2={10,20,30,40,50}\n",
    "s2"
   ]
  },
  {
   "cell_type": "code",
   "execution_count": null,
   "id": "6e15cadc",
   "metadata": {},
   "outputs": [],
   "source": []
  },
  {
   "cell_type": "code",
   "execution_count": 111,
   "id": "2c4d23b9",
   "metadata": {},
   "outputs": [
    {
     "data": {
      "text/plain": [
       "set"
      ]
     },
     "execution_count": 111,
     "metadata": {},
     "output_type": "execute_result"
    }
   ],
   "source": [
    "s1={1,2,3,4,5,6}\n",
    "type(s1)"
   ]
  },
  {
   "cell_type": "code",
   "execution_count": 112,
   "id": "8545d177",
   "metadata": {},
   "outputs": [
    {
     "data": {
      "text/plain": [
       "{0, 1, 2, 3, 4, 5, 6, 7, 8, 9}"
      ]
     },
     "execution_count": 112,
     "metadata": {},
     "output_type": "execute_result"
    }
   ],
   "source": [
    "s2={1,2,3,1,4,3,2,6,7,8,9,5,3,1,0}\n",
    "s2"
   ]
  },
  {
   "cell_type": "code",
   "execution_count": 113,
   "id": "d3f0c397",
   "metadata": {},
   "outputs": [
    {
     "ename": "TypeError",
     "evalue": "'set' object is not subscriptable",
     "output_type": "error",
     "traceback": [
      "\u001b[1;31m---------------------------------------------------------------------------\u001b[0m",
      "\u001b[1;31mTypeError\u001b[0m                                 Traceback (most recent call last)",
      "\u001b[1;32m<ipython-input-113-ab7c8e26b0d3>\u001b[0m in \u001b[0;36m<module>\u001b[1;34m\u001b[0m\n\u001b[1;32m----> 1\u001b[1;33m \u001b[0ms2\u001b[0m\u001b[1;33m[\u001b[0m\u001b[1;36m0\u001b[0m\u001b[1;33m]\u001b[0m\u001b[1;33m\u001b[0m\u001b[1;33m\u001b[0m\u001b[0m\n\u001b[0m",
      "\u001b[1;31mTypeError\u001b[0m: 'set' object is not subscriptable"
     ]
    }
   ],
   "source": [
    "s2[0]"
   ]
  },
  {
   "cell_type": "code",
   "execution_count": 114,
   "id": "084b8be6",
   "metadata": {},
   "outputs": [
    {
     "data": {
      "text/plain": [
       "{2, 3, 4, 10, 11, 12}"
      ]
     },
     "execution_count": 114,
     "metadata": {},
     "output_type": "execute_result"
    }
   ],
   "source": [
    "s3={2,3,4,10,11,12}\n",
    "s3"
   ]
  },
  {
   "cell_type": "code",
   "execution_count": 115,
   "id": "fb0706e9",
   "metadata": {},
   "outputs": [
    {
     "ename": "TypeError",
     "evalue": "'set' object is not subscriptable",
     "output_type": "error",
     "traceback": [
      "\u001b[1;31m---------------------------------------------------------------------------\u001b[0m",
      "\u001b[1;31mTypeError\u001b[0m                                 Traceback (most recent call last)",
      "\u001b[1;32m<ipython-input-115-70eef589a218>\u001b[0m in \u001b[0;36m<module>\u001b[1;34m\u001b[0m\n\u001b[1;32m----> 1\u001b[1;33m \u001b[0ms3\u001b[0m\u001b[1;33m[\u001b[0m\u001b[1;36m4\u001b[0m\u001b[1;33m]\u001b[0m\u001b[1;33m\u001b[0m\u001b[1;33m\u001b[0m\u001b[0m\n\u001b[0m",
      "\u001b[1;31mTypeError\u001b[0m: 'set' object is not subscriptable"
     ]
    }
   ],
   "source": [
    "s3[4]"
   ]
  },
  {
   "cell_type": "code",
   "execution_count": 116,
   "id": "34131b74",
   "metadata": {},
   "outputs": [
    {
     "name": "stdout",
     "output_type": "stream",
     "text": [
      "['__and__', '__class__', '__contains__', '__delattr__', '__dir__', '__doc__', '__eq__', '__format__', '__ge__', '__getattribute__', '__gt__', '__hash__', '__iand__', '__init__', '__init_subclass__', '__ior__', '__isub__', '__iter__', '__ixor__', '__le__', '__len__', '__lt__', '__ne__', '__new__', '__or__', '__rand__', '__reduce__', '__reduce_ex__', '__repr__', '__ror__', '__rsub__', '__rxor__', '__setattr__', '__sizeof__', '__str__', '__sub__', '__subclasshook__', '__xor__', 'add', 'clear', 'copy', 'difference', 'difference_update', 'discard', 'intersection', 'intersection_update', 'isdisjoint', 'issubset', 'issuperset', 'pop', 'remove', 'symmetric_difference', 'symmetric_difference_update', 'union', 'update']\n"
     ]
    }
   ],
   "source": [
    "print(dir(set))"
   ]
  },
  {
   "cell_type": "code",
   "execution_count": 117,
   "id": "1049602d",
   "metadata": {},
   "outputs": [
    {
     "data": {
      "text/plain": [
       "{0, 1, 5, 6, 7, 8, 9}"
      ]
     },
     "execution_count": 117,
     "metadata": {},
     "output_type": "execute_result"
    }
   ],
   "source": [
    "s2.difference(s3)"
   ]
  },
  {
   "cell_type": "code",
   "execution_count": 118,
   "id": "fc1ecb16",
   "metadata": {},
   "outputs": [
    {
     "data": {
      "text/plain": [
       "{10, 11, 12}"
      ]
     },
     "execution_count": 118,
     "metadata": {},
     "output_type": "execute_result"
    }
   ],
   "source": [
    "s3.difference(s2)"
   ]
  },
  {
   "cell_type": "code",
   "execution_count": 119,
   "id": "bec9bda0",
   "metadata": {},
   "outputs": [
    {
     "data": {
      "text/plain": [
       "{2, 3, 4}"
      ]
     },
     "execution_count": 119,
     "metadata": {},
     "output_type": "execute_result"
    }
   ],
   "source": [
    "s2.intersection(s3)"
   ]
  },
  {
   "cell_type": "code",
   "execution_count": 121,
   "id": "28010cc0",
   "metadata": {},
   "outputs": [],
   "source": [
    "s2.clear()"
   ]
  },
  {
   "cell_type": "code",
   "execution_count": 122,
   "id": "f1092504",
   "metadata": {},
   "outputs": [
    {
     "data": {
      "text/plain": [
       "set()"
      ]
     },
     "execution_count": 122,
     "metadata": {},
     "output_type": "execute_result"
    }
   ],
   "source": [
    "s2"
   ]
  },
  {
   "cell_type": "code",
   "execution_count": 123,
   "id": "9eb6bc52",
   "metadata": {},
   "outputs": [],
   "source": [
    "s3.remove(3)"
   ]
  },
  {
   "cell_type": "code",
   "execution_count": 124,
   "id": "96065801",
   "metadata": {},
   "outputs": [
    {
     "data": {
      "text/plain": [
       "{2, 4, 10, 11, 12}"
      ]
     },
     "execution_count": 124,
     "metadata": {},
     "output_type": "execute_result"
    }
   ],
   "source": [
    "s3"
   ]
  },
  {
   "cell_type": "code",
   "execution_count": 1,
   "id": "13ee08cc",
   "metadata": {},
   "outputs": [
    {
     "data": {
      "text/plain": [
       "10"
      ]
     },
     "execution_count": 1,
     "metadata": {},
     "output_type": "execute_result"
    }
   ],
   "source": [
    "s2={1,2,3,1,4,3,2,6,7,8,9,5,3,1,0}\n",
    "len(s2)"
   ]
  },
  {
   "cell_type": "code",
   "execution_count": 2,
   "id": "afbb0c4b",
   "metadata": {},
   "outputs": [
    {
     "data": {
      "text/plain": [
       "3"
      ]
     },
     "execution_count": 2,
     "metadata": {},
     "output_type": "execute_result"
    }
   ],
   "source": [
    "s2={1,1,1,1,1,1,1,1,2,2,2,2,2,2,3,3,3,3,3,3,3,3}\n",
    "len(s2)"
   ]
  }
 ],
 "metadata": {
  "kernelspec": {
   "display_name": "Python 3 (ipykernel)",
   "language": "python",
   "name": "python3"
  },
  "language_info": {
   "codemirror_mode": {
    "name": "ipython",
    "version": 3
   },
   "file_extension": ".py",
   "mimetype": "text/x-python",
   "name": "python",
   "nbconvert_exporter": "python",
   "pygments_lexer": "ipython3",
   "version": "3.9.7"
  }
 },
 "nbformat": 4,
 "nbformat_minor": 5
}
